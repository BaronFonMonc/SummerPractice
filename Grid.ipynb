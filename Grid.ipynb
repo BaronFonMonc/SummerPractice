{
  "nbformat": 4,
  "nbformat_minor": 0,
  "metadata": {
    "colab": {
      "name": "Grid.ipynb",
      "provenance": [],
      "toc_visible": true
    },
    "kernelspec": {
      "display_name": "Python 3",
      "name": "python3"
    },
    "language_info": {
      "name": "python"
    }
  },
  "cells": [
    {
      "cell_type": "code",
      "metadata": {
        "id": "egX60derHUXJ"
      },
      "source": [
        "!pip install catboost"
      ],
      "execution_count": null,
      "outputs": []
    },
    {
      "cell_type": "code",
      "metadata": {
        "id": "XeA6-Z90LlAg"
      },
      "source": [
        "import pandas as pd\n",
        "import seaborn as sns\n",
        "import numpy as np\n",
        "import matplotlib.pyplot as plt\n",
        "from sklearn.preprocessing import LabelEncoder\n",
        "from sklearn.preprocessing import StandardScaler\n",
        "from sklearn.datasets import load_boston, load_breast_cancer\n",
        "from sklearn.model_selection import train_test_split, GridSearchCV\n",
        "from sklearn.metrics import roc_auc_score, mean_squared_error, mean_squared_log_error, balanced_accuracy_score\n",
        "import xgboost as xgb\n",
        "import catboost as ctb\n",
        "import lightgbm as lgb"
      ],
      "execution_count": 11,
      "outputs": []
    },
    {
      "cell_type": "markdown",
      "metadata": {
        "id": "NrhJoURKvUl4"
      },
      "source": [
        "В данном эксперименте мы рассмотрим эффективность алгоритмов **XGBoost**, **CatBoost** и **LightGBM** и подберем лучшие гиперпараметры с помощью **GridSearchCV** на следующих датасетах:\n",
        "\n",
        "\n",
        "1.   **Boston**. \"Игрушечный\" датасет из sklearn. (Задача регрессии)\n",
        "2.   **Breast Cancer**. \"Игрушечный\" датасет из sklearn. (Задача бинарной классификации)\n",
        "3.   **House Prices**. https://www.kaggle.com/c/house-prices-advanced-regression-techniques/data?select=train.csv. Необходимо определить цену дома (Задача регрессии)\n",
        "4.   **Water Quality**. https://www.kaggle.com/adityakadiwal/water-potability. Необходимо определить пригодность воды для питья (Задача бинарной классификации)\n"
      ]
    },
    {
      "cell_type": "markdown",
      "metadata": {
        "id": "Q2SNmWIGz7kt"
      },
      "source": [
        "#Boston (Задача регрессии)"
      ]
    },
    {
      "cell_type": "markdown",
      "metadata": {
        "id": "pWRlDWOCLhmD"
      },
      "source": [
        "## Готовим датасет\n"
      ]
    },
    {
      "cell_type": "code",
      "metadata": {
        "id": "O4EkprYsRu6L"
      },
      "source": [
        "boston = load_boston()\n",
        "X = boston.data\n",
        "y = boston.target\n",
        "\n",
        "X_train, X_test, y_train, y_test = train_test_split(X, y, test_size=0.3, random_state=42)"
      ],
      "execution_count": 195,
      "outputs": []
    },
    {
      "cell_type": "code",
      "metadata": {
        "colab": {
          "base_uri": "https://localhost:8080/",
          "height": 204
        },
        "id": "_DA9pq5D0YEp",
        "outputId": "5c90156c-8a59-417a-c6d7-4d6e4d97d1b4"
      },
      "source": [
        "df = pd.DataFrame(load_boston().data, columns=load_boston().feature_names)\n",
        "df.head()"
      ],
      "execution_count": 196,
      "outputs": [
        {
          "output_type": "execute_result",
          "data": {
            "text/html": [
              "<div>\n",
              "<style scoped>\n",
              "    .dataframe tbody tr th:only-of-type {\n",
              "        vertical-align: middle;\n",
              "    }\n",
              "\n",
              "    .dataframe tbody tr th {\n",
              "        vertical-align: top;\n",
              "    }\n",
              "\n",
              "    .dataframe thead th {\n",
              "        text-align: right;\n",
              "    }\n",
              "</style>\n",
              "<table border=\"1\" class=\"dataframe\">\n",
              "  <thead>\n",
              "    <tr style=\"text-align: right;\">\n",
              "      <th></th>\n",
              "      <th>CRIM</th>\n",
              "      <th>ZN</th>\n",
              "      <th>INDUS</th>\n",
              "      <th>CHAS</th>\n",
              "      <th>NOX</th>\n",
              "      <th>RM</th>\n",
              "      <th>AGE</th>\n",
              "      <th>DIS</th>\n",
              "      <th>RAD</th>\n",
              "      <th>TAX</th>\n",
              "      <th>PTRATIO</th>\n",
              "      <th>B</th>\n",
              "      <th>LSTAT</th>\n",
              "    </tr>\n",
              "  </thead>\n",
              "  <tbody>\n",
              "    <tr>\n",
              "      <th>0</th>\n",
              "      <td>0.00632</td>\n",
              "      <td>18.0</td>\n",
              "      <td>2.31</td>\n",
              "      <td>0.0</td>\n",
              "      <td>0.538</td>\n",
              "      <td>6.575</td>\n",
              "      <td>65.2</td>\n",
              "      <td>4.0900</td>\n",
              "      <td>1.0</td>\n",
              "      <td>296.0</td>\n",
              "      <td>15.3</td>\n",
              "      <td>396.90</td>\n",
              "      <td>4.98</td>\n",
              "    </tr>\n",
              "    <tr>\n",
              "      <th>1</th>\n",
              "      <td>0.02731</td>\n",
              "      <td>0.0</td>\n",
              "      <td>7.07</td>\n",
              "      <td>0.0</td>\n",
              "      <td>0.469</td>\n",
              "      <td>6.421</td>\n",
              "      <td>78.9</td>\n",
              "      <td>4.9671</td>\n",
              "      <td>2.0</td>\n",
              "      <td>242.0</td>\n",
              "      <td>17.8</td>\n",
              "      <td>396.90</td>\n",
              "      <td>9.14</td>\n",
              "    </tr>\n",
              "    <tr>\n",
              "      <th>2</th>\n",
              "      <td>0.02729</td>\n",
              "      <td>0.0</td>\n",
              "      <td>7.07</td>\n",
              "      <td>0.0</td>\n",
              "      <td>0.469</td>\n",
              "      <td>7.185</td>\n",
              "      <td>61.1</td>\n",
              "      <td>4.9671</td>\n",
              "      <td>2.0</td>\n",
              "      <td>242.0</td>\n",
              "      <td>17.8</td>\n",
              "      <td>392.83</td>\n",
              "      <td>4.03</td>\n",
              "    </tr>\n",
              "    <tr>\n",
              "      <th>3</th>\n",
              "      <td>0.03237</td>\n",
              "      <td>0.0</td>\n",
              "      <td>2.18</td>\n",
              "      <td>0.0</td>\n",
              "      <td>0.458</td>\n",
              "      <td>6.998</td>\n",
              "      <td>45.8</td>\n",
              "      <td>6.0622</td>\n",
              "      <td>3.0</td>\n",
              "      <td>222.0</td>\n",
              "      <td>18.7</td>\n",
              "      <td>394.63</td>\n",
              "      <td>2.94</td>\n",
              "    </tr>\n",
              "    <tr>\n",
              "      <th>4</th>\n",
              "      <td>0.06905</td>\n",
              "      <td>0.0</td>\n",
              "      <td>2.18</td>\n",
              "      <td>0.0</td>\n",
              "      <td>0.458</td>\n",
              "      <td>7.147</td>\n",
              "      <td>54.2</td>\n",
              "      <td>6.0622</td>\n",
              "      <td>3.0</td>\n",
              "      <td>222.0</td>\n",
              "      <td>18.7</td>\n",
              "      <td>396.90</td>\n",
              "      <td>5.33</td>\n",
              "    </tr>\n",
              "  </tbody>\n",
              "</table>\n",
              "</div>"
            ],
            "text/plain": [
              "      CRIM    ZN  INDUS  CHAS    NOX  ...  RAD    TAX  PTRATIO       B  LSTAT\n",
              "0  0.00632  18.0   2.31   0.0  0.538  ...  1.0  296.0     15.3  396.90   4.98\n",
              "1  0.02731   0.0   7.07   0.0  0.469  ...  2.0  242.0     17.8  396.90   9.14\n",
              "2  0.02729   0.0   7.07   0.0  0.469  ...  2.0  242.0     17.8  392.83   4.03\n",
              "3  0.03237   0.0   2.18   0.0  0.458  ...  3.0  222.0     18.7  394.63   2.94\n",
              "4  0.06905   0.0   2.18   0.0  0.458  ...  3.0  222.0     18.7  396.90   5.33\n",
              "\n",
              "[5 rows x 13 columns]"
            ]
          },
          "metadata": {
            "tags": []
          },
          "execution_count": 196
        }
      ]
    },
    {
      "cell_type": "markdown",
      "metadata": {
        "id": "FeoJnZ--Nab5"
      },
      "source": [
        "## GridSearchCV\n"
      ]
    },
    {
      "cell_type": "markdown",
      "metadata": {
        "id": "kd1jIT5V2IqX"
      },
      "source": [
        "### XGBoost"
      ]
    },
    {
      "cell_type": "code",
      "metadata": {
        "colab": {
          "base_uri": "https://localhost:8080/"
        },
        "id": "VA4tyHrM2BqR",
        "outputId": "d9665b91-1d15-4ca5-c350-8d1da47c1ed6"
      },
      "source": [
        "xgb_model = xgb.XGBRegressor(nthread = 4, objective='reg:squarederror')\n",
        "param_grid = dict(\n",
        "    max_depth = [4, 5, 6, 7],\n",
        "    learning_rate = [0.1, 0.01, 0.05],\n",
        "    n_estimators = [100, 200],\n",
        "    gamma = [0, 1, 10],\n",
        "    colsample_bytree = [0.1, 0.5, 1]\n",
        ")\n",
        "grid = GridSearchCV(xgb_model, param_grid, verbose=True, scoring='neg_mean_squared_log_error')\n",
        "grid.fit(X_train, y_train)\n",
        "\n",
        "print(end='')"
      ],
      "execution_count": null,
      "outputs": [
        {
          "output_type": "stream",
          "text": [
            "Fitting 5 folds for each of 216 candidates, totalling 1080 fits\n"
          ],
          "name": "stdout"
        },
        {
          "output_type": "stream",
          "text": [
            "[Parallel(n_jobs=1)]: Using backend SequentialBackend with 1 concurrent workers.\n",
            "[Parallel(n_jobs=1)]: Done 1080 out of 1080 | elapsed:  2.3min finished\n"
          ],
          "name": "stderr"
        }
      ]
    },
    {
      "cell_type": "code",
      "metadata": {
        "colab": {
          "base_uri": "https://localhost:8080/"
        },
        "id": "oE8gs86D2OV2",
        "outputId": "83b963c6-058e-4ebb-b994-8363a5349008"
      },
      "source": [
        "print(grid.best_params_)\n",
        "print(np.sqrt(-grid.best_score_))"
      ],
      "execution_count": null,
      "outputs": [
        {
          "output_type": "stream",
          "text": [
            "{'colsample_bytree': 0.5, 'gamma': 0, 'learning_rate': 0.05, 'max_depth': 4, 'n_estimators': 200}\n",
            "0.151604738517858\n"
          ],
          "name": "stdout"
        }
      ]
    },
    {
      "cell_type": "code",
      "metadata": {
        "colab": {
          "base_uri": "https://localhost:8080/"
        },
        "id": "QLcKt85x8hGe",
        "outputId": "4d658c79-ca29-4b4e-ff89-1bf1646563f3"
      },
      "source": [
        "print('Best RMSLE Score: {}'.format(np.sqrt(-grid.best_score_)))\n",
        "print('Test RMSLE: {}'.format(np.sqrt(mean_squared_log_error(y_test, grid.predict(X_test)))))\n",
        "print('Train RMSLE: {}'.format(np.sqrt(mean_squared_log_error(y_train, grid.predict(X_train)))))"
      ],
      "execution_count": null,
      "outputs": [
        {
          "output_type": "stream",
          "text": [
            "Best RMSLE Score: 0.151604738517858\n",
            "Test RMSLE: 0.13791926633157803\n",
            "Train RMSLE: 0.05706154127941335\n"
          ],
          "name": "stdout"
        }
      ]
    },
    {
      "cell_type": "code",
      "metadata": {
        "colab": {
          "base_uri": "https://localhost:8080/"
        },
        "id": "ZYl4jYUguMk3",
        "outputId": "68948cdc-e6bc-48fb-d507-b9696abe77a4"
      },
      "source": [
        "%time\n",
        "xgb_model = xgb.XGBRegressor(nthread = 4, objective='reg:squarederror', colsample_bytree = 0.5, gamma = 0, learning_rate = 0.05, max_depth = 4, n_estimators = 200)\n",
        "xgb_model.fit(X_train, y_train)\n",
        "print()"
      ],
      "execution_count": 203,
      "outputs": [
        {
          "output_type": "stream",
          "text": [
            "CPU times: user 4 µs, sys: 1e+03 ns, total: 5 µs\n",
            "Wall time: 8.34 µs\n",
            "\n"
          ],
          "name": "stdout"
        }
      ]
    },
    {
      "cell_type": "code",
      "metadata": {
        "colab": {
          "base_uri": "https://localhost:8080/"
        },
        "id": "_lpSO7oCu21z",
        "outputId": "a537e32a-59ec-4053-ab99-c951966b849e"
      },
      "source": [
        "%time\n",
        "xgb_model.predict(X_test)\n",
        "print()"
      ],
      "execution_count": 202,
      "outputs": [
        {
          "output_type": "stream",
          "text": [
            "CPU times: user 4 µs, sys: 0 ns, total: 4 µs\n",
            "Wall time: 8.34 µs\n",
            "\n"
          ],
          "name": "stdout"
        }
      ]
    },
    {
      "cell_type": "markdown",
      "metadata": {
        "id": "Q585sgDV6u0j"
      },
      "source": [
        "### CatBoost"
      ]
    },
    {
      "cell_type": "code",
      "metadata": {
        "colab": {
          "base_uri": "https://localhost:8080/"
        },
        "id": "6k6DxPpEHc_B",
        "outputId": "6b426314-5a67-457a-9dbf-fee66b96ea10"
      },
      "source": [
        "catboost_model = ctb.CatBoostRegressor()\n",
        "param_grid = dict(\n",
        "    depth = [4, 5, 6, 7],\n",
        "    learning_rate = [0.1, 0.01, 0.05],\n",
        "    n_estimators = [100, 200],\n",
        "    logging_level = ['Silent']\n",
        ")\n",
        "grid = GridSearchCV(catboost_model, param_grid, verbose=True, scoring='neg_mean_squared_log_error')\n",
        "grid.fit(X_train, y_train)\n",
        "\n",
        "print(end='')"
      ],
      "execution_count": null,
      "outputs": [
        {
          "output_type": "stream",
          "text": [
            "Fitting 5 folds for each of 24 candidates, totalling 120 fits\n"
          ],
          "name": "stdout"
        },
        {
          "output_type": "stream",
          "text": [
            "[Parallel(n_jobs=1)]: Using backend SequentialBackend with 1 concurrent workers.\n",
            "[Parallel(n_jobs=1)]: Done 120 out of 120 | elapsed:   35.5s finished\n"
          ],
          "name": "stderr"
        }
      ]
    },
    {
      "cell_type": "code",
      "metadata": {
        "colab": {
          "base_uri": "https://localhost:8080/"
        },
        "id": "MiE8FXoWP-XF",
        "outputId": "64808093-533a-4c92-f0ed-fe5d0f2dc4b1"
      },
      "source": [
        "print(grid.best_params_)\n",
        "print(np.sqrt(-grid.best_score_))"
      ],
      "execution_count": null,
      "outputs": [
        {
          "output_type": "stream",
          "text": [
            "{'depth': 4, 'learning_rate': 0.1, 'logging_level': 'Silent', 'n_estimators': 200}\n",
            "0.15065041990438877\n"
          ],
          "name": "stdout"
        }
      ]
    },
    {
      "cell_type": "code",
      "metadata": {
        "colab": {
          "base_uri": "https://localhost:8080/"
        },
        "id": "U07C7Ez9P-XG",
        "outputId": "dd317696-f218-498a-d90c-ea4862853f10"
      },
      "source": [
        "print('Best RMSLE Score: {}'.format(np.sqrt(-grid.best_score_)))\n",
        "print('Test RMSLE: {}'.format(np.sqrt(mean_squared_log_error(y_test, grid.predict(X_test)))))\n",
        "print('Train RMSLE: {}'.format(np.sqrt(mean_squared_log_error(y_train, grid.predict(X_train)))))"
      ],
      "execution_count": null,
      "outputs": [
        {
          "output_type": "stream",
          "text": [
            "Best RMSLE Score: 0.15065041990438877\n",
            "Test RMSLE: 0.1462265908469752\n",
            "Train RMSLE: 0.07478413823593054\n"
          ],
          "name": "stdout"
        }
      ]
    },
    {
      "cell_type": "code",
      "metadata": {
        "colab": {
          "base_uri": "https://localhost:8080/"
        },
        "id": "6MxosJ8Zvbfn",
        "outputId": "4cc872a5-d5f5-4811-9254-c735f1ea3792"
      },
      "source": [
        "%time\n",
        "catboost_model = ctb.CatBoostRegressor(depth = 4, learning_rate = 0.1, logging_level = 'Silent', n_estimators = 200)\n",
        "catboost_model.fit(X_train, y_train)\n",
        "print()"
      ],
      "execution_count": 210,
      "outputs": [
        {
          "output_type": "stream",
          "text": [
            "CPU times: user 4 µs, sys: 0 ns, total: 4 µs\n",
            "Wall time: 10 µs\n",
            "\n"
          ],
          "name": "stdout"
        }
      ]
    },
    {
      "cell_type": "code",
      "metadata": {
        "colab": {
          "base_uri": "https://localhost:8080/"
        },
        "id": "L7UOdJS0vw9y",
        "outputId": "113e191f-7823-424f-e3ea-055e9f64b94d"
      },
      "source": [
        "%time\n",
        "catboost_model.predict(X_test)\n",
        "print()"
      ],
      "execution_count": 208,
      "outputs": [
        {
          "output_type": "stream",
          "text": [
            "CPU times: user 2 µs, sys: 0 ns, total: 2 µs\n",
            "Wall time: 6.68 µs\n",
            "\n"
          ],
          "name": "stdout"
        }
      ]
    },
    {
      "cell_type": "markdown",
      "metadata": {
        "id": "TP8c7oqy61WO"
      },
      "source": [
        "### LightGBM"
      ]
    },
    {
      "cell_type": "code",
      "metadata": {
        "colab": {
          "base_uri": "https://localhost:8080/"
        },
        "id": "B2ZZH3AwLPq8",
        "outputId": "ffbc1ab6-d035-473c-ecf3-c2ec4ba24c1a"
      },
      "source": [
        "lightgbm_model = lgb.LGBMRegressor()\n",
        "param_grid = dict(\n",
        "    num_leaves = [4, 5, 7, 15],\n",
        "    learning_rate = [0.1, 0.01, 0.05],\n",
        "    n_estimators = [100, 200],\n",
        "    logging_level = ['Silent'],\n",
        "    max_depth = [4, 5, 6, 7, -1]\n",
        ")\n",
        "grid = GridSearchCV(lightgbm_model, param_grid, verbose=True, scoring='neg_mean_squared_log_error')\n",
        "grid.fit(X_train, y_train)\n",
        "\n",
        "print(end='')"
      ],
      "execution_count": null,
      "outputs": [
        {
          "output_type": "stream",
          "text": [
            "Fitting 5 folds for each of 120 candidates, totalling 600 fits\n"
          ],
          "name": "stdout"
        },
        {
          "output_type": "stream",
          "text": [
            "[Parallel(n_jobs=1)]: Using backend SequentialBackend with 1 concurrent workers.\n",
            "[Parallel(n_jobs=1)]: Done 600 out of 600 | elapsed:  1.0min finished\n"
          ],
          "name": "stderr"
        }
      ]
    },
    {
      "cell_type": "code",
      "metadata": {
        "colab": {
          "base_uri": "https://localhost:8080/"
        },
        "id": "QtuSIiLMQIJP",
        "outputId": "e7d06be9-4f69-463c-a3ef-fccce1286e80"
      },
      "source": [
        "print(grid.best_params_)\n",
        "print(np.sqrt(-grid.best_score_))"
      ],
      "execution_count": null,
      "outputs": [
        {
          "output_type": "stream",
          "text": [
            "{'learning_rate': 0.1, 'logging_level': 'Silent', 'max_depth': 4, 'n_estimators': 100, 'num_leaves': 5}\n",
            "0.16164181552682355\n"
          ],
          "name": "stdout"
        }
      ]
    },
    {
      "cell_type": "code",
      "metadata": {
        "colab": {
          "base_uri": "https://localhost:8080/"
        },
        "id": "SBpRh-ZAQIJQ",
        "outputId": "07ebcb38-6e8b-46b4-8ae6-bd702c7729aa"
      },
      "source": [
        "print('Best RMSLE Score: {}'.format(np.sqrt(-grid.best_score_)))\n",
        "print('Test RMSLE: {}'.format(np.sqrt(mean_squared_log_error(y_test, grid.predict(X_test)))))\n",
        "print('Train RMSLE: {}'.format(np.sqrt(mean_squared_log_error(y_train, grid.predict(X_train)))))"
      ],
      "execution_count": null,
      "outputs": [
        {
          "output_type": "stream",
          "text": [
            "Best RMSLE Score: 0.16164181552682355\n",
            "Test RMSLE: 0.1471731751211182\n",
            "Train RMSLE: 0.10327598507389145\n"
          ],
          "name": "stdout"
        }
      ]
    },
    {
      "cell_type": "code",
      "metadata": {
        "colab": {
          "base_uri": "https://localhost:8080/"
        },
        "id": "YHGEFdKHwGt5",
        "outputId": "363fbded-3df5-46ab-cedc-b11c2c8f62a2"
      },
      "source": [
        "%time\n",
        "lightgbm_model = lgb.LGBMRegressor(learning_rate = 0.1, logging_level = 'Silent', max_depth = 4, n_estimators = 100, num_leaves = 5)\n",
        "lightgbm_model.fit(X_train, y_train)\n",
        "print()"
      ],
      "execution_count": 212,
      "outputs": [
        {
          "output_type": "stream",
          "text": [
            "CPU times: user 4 µs, sys: 0 ns, total: 4 µs\n",
            "Wall time: 8.58 µs\n",
            "\n"
          ],
          "name": "stdout"
        }
      ]
    },
    {
      "cell_type": "code",
      "metadata": {
        "colab": {
          "base_uri": "https://localhost:8080/"
        },
        "id": "s7gTtwgfwbaw",
        "outputId": "24c35dec-e018-457d-8a54-df0ec84672a5"
      },
      "source": [
        "%time\n",
        "lightgbm_model.predict(X_test)\n",
        "print()"
      ],
      "execution_count": 213,
      "outputs": [
        {
          "output_type": "stream",
          "text": [
            "CPU times: user 4 µs, sys: 1e+03 ns, total: 5 µs\n",
            "Wall time: 7.15 µs\n",
            "\n"
          ],
          "name": "stdout"
        }
      ]
    },
    {
      "cell_type": "markdown",
      "metadata": {
        "id": "LwmgrWoO0WnI"
      },
      "source": [
        "##Вывод"
      ]
    },
    {
      "cell_type": "markdown",
      "metadata": {
        "id": "ZPtMCpRe0gOh"
      },
      "source": [
        "Результаты:\n",
        "\n",
        "| Boston | XGBoost | CatBoost | LightGBM |\n",
        "| --- | --- | --- | --- |\n",
        "| Best Parameters| 'colsample_bytree': 0.5, <br /> 'gamma': 0, <br /> 'learning_rate': 0.05, <br /> 'max_depth': 4, <br /> 'n_estimators': 200 | 'depth': 4, <br /> 'learning_rate': 0.1, <br /> 'n_estimators': 200 |  'learning_rate': 0.1, <br /> 'max_depth': 4, <br /> 'n_estimators': 100, <br /> 'num_leaves': 5  |\n",
        "| Train RMSLE    | 0.0570615 | 0.0747841 | 0.1032759  |\n",
        "| Test RMSLE     | 0.1379192 | 0.1462266 | 0.1471732  |\n",
        "| Parameter <br /> Tuning Time      | 2.3min <br /> (1080 iter) | 35.5s <br /> (120 iter) |  1.0min <br /> (600 iter)  |\n",
        "\n",
        "\n"
      ]
    },
    {
      "cell_type": "markdown",
      "metadata": {
        "id": "OcTV-wqq0mDH"
      },
      "source": [
        "# Breast Cancer (Задача бинарной классификации)"
      ]
    },
    {
      "cell_type": "markdown",
      "metadata": {
        "id": "iINL8cq_05G6"
      },
      "source": [
        "## Готовим датасет\n"
      ]
    },
    {
      "cell_type": "code",
      "metadata": {
        "id": "ZNOAucQd05G6"
      },
      "source": [
        "breast_cancer = load_breast_cancer()\n",
        "X = breast_cancer.data\n",
        "y = breast_cancer.target\n",
        "\n",
        "X_train, X_test, y_train, y_test = train_test_split(X, y, test_size=0.3, random_state=42)"
      ],
      "execution_count": 214,
      "outputs": []
    },
    {
      "cell_type": "code",
      "metadata": {
        "colab": {
          "base_uri": "https://localhost:8080/",
          "height": 0
        },
        "id": "3-wbfay805G6",
        "outputId": "bd4f8b57-be26-4143-d1e5-7a3cefec905e"
      },
      "source": [
        "df = pd.DataFrame(load_breast_cancer().data, columns=load_breast_cancer().feature_names)\n",
        "df.head()"
      ],
      "execution_count": 215,
      "outputs": [
        {
          "output_type": "execute_result",
          "data": {
            "text/html": [
              "<div>\n",
              "<style scoped>\n",
              "    .dataframe tbody tr th:only-of-type {\n",
              "        vertical-align: middle;\n",
              "    }\n",
              "\n",
              "    .dataframe tbody tr th {\n",
              "        vertical-align: top;\n",
              "    }\n",
              "\n",
              "    .dataframe thead th {\n",
              "        text-align: right;\n",
              "    }\n",
              "</style>\n",
              "<table border=\"1\" class=\"dataframe\">\n",
              "  <thead>\n",
              "    <tr style=\"text-align: right;\">\n",
              "      <th></th>\n",
              "      <th>mean radius</th>\n",
              "      <th>mean texture</th>\n",
              "      <th>mean perimeter</th>\n",
              "      <th>mean area</th>\n",
              "      <th>mean smoothness</th>\n",
              "      <th>mean compactness</th>\n",
              "      <th>mean concavity</th>\n",
              "      <th>mean concave points</th>\n",
              "      <th>mean symmetry</th>\n",
              "      <th>mean fractal dimension</th>\n",
              "      <th>radius error</th>\n",
              "      <th>texture error</th>\n",
              "      <th>perimeter error</th>\n",
              "      <th>area error</th>\n",
              "      <th>smoothness error</th>\n",
              "      <th>compactness error</th>\n",
              "      <th>concavity error</th>\n",
              "      <th>concave points error</th>\n",
              "      <th>symmetry error</th>\n",
              "      <th>fractal dimension error</th>\n",
              "      <th>worst radius</th>\n",
              "      <th>worst texture</th>\n",
              "      <th>worst perimeter</th>\n",
              "      <th>worst area</th>\n",
              "      <th>worst smoothness</th>\n",
              "      <th>worst compactness</th>\n",
              "      <th>worst concavity</th>\n",
              "      <th>worst concave points</th>\n",
              "      <th>worst symmetry</th>\n",
              "      <th>worst fractal dimension</th>\n",
              "    </tr>\n",
              "  </thead>\n",
              "  <tbody>\n",
              "    <tr>\n",
              "      <th>0</th>\n",
              "      <td>17.99</td>\n",
              "      <td>10.38</td>\n",
              "      <td>122.80</td>\n",
              "      <td>1001.0</td>\n",
              "      <td>0.11840</td>\n",
              "      <td>0.27760</td>\n",
              "      <td>0.3001</td>\n",
              "      <td>0.14710</td>\n",
              "      <td>0.2419</td>\n",
              "      <td>0.07871</td>\n",
              "      <td>1.0950</td>\n",
              "      <td>0.9053</td>\n",
              "      <td>8.589</td>\n",
              "      <td>153.40</td>\n",
              "      <td>0.006399</td>\n",
              "      <td>0.04904</td>\n",
              "      <td>0.05373</td>\n",
              "      <td>0.01587</td>\n",
              "      <td>0.03003</td>\n",
              "      <td>0.006193</td>\n",
              "      <td>25.38</td>\n",
              "      <td>17.33</td>\n",
              "      <td>184.60</td>\n",
              "      <td>2019.0</td>\n",
              "      <td>0.1622</td>\n",
              "      <td>0.6656</td>\n",
              "      <td>0.7119</td>\n",
              "      <td>0.2654</td>\n",
              "      <td>0.4601</td>\n",
              "      <td>0.11890</td>\n",
              "    </tr>\n",
              "    <tr>\n",
              "      <th>1</th>\n",
              "      <td>20.57</td>\n",
              "      <td>17.77</td>\n",
              "      <td>132.90</td>\n",
              "      <td>1326.0</td>\n",
              "      <td>0.08474</td>\n",
              "      <td>0.07864</td>\n",
              "      <td>0.0869</td>\n",
              "      <td>0.07017</td>\n",
              "      <td>0.1812</td>\n",
              "      <td>0.05667</td>\n",
              "      <td>0.5435</td>\n",
              "      <td>0.7339</td>\n",
              "      <td>3.398</td>\n",
              "      <td>74.08</td>\n",
              "      <td>0.005225</td>\n",
              "      <td>0.01308</td>\n",
              "      <td>0.01860</td>\n",
              "      <td>0.01340</td>\n",
              "      <td>0.01389</td>\n",
              "      <td>0.003532</td>\n",
              "      <td>24.99</td>\n",
              "      <td>23.41</td>\n",
              "      <td>158.80</td>\n",
              "      <td>1956.0</td>\n",
              "      <td>0.1238</td>\n",
              "      <td>0.1866</td>\n",
              "      <td>0.2416</td>\n",
              "      <td>0.1860</td>\n",
              "      <td>0.2750</td>\n",
              "      <td>0.08902</td>\n",
              "    </tr>\n",
              "    <tr>\n",
              "      <th>2</th>\n",
              "      <td>19.69</td>\n",
              "      <td>21.25</td>\n",
              "      <td>130.00</td>\n",
              "      <td>1203.0</td>\n",
              "      <td>0.10960</td>\n",
              "      <td>0.15990</td>\n",
              "      <td>0.1974</td>\n",
              "      <td>0.12790</td>\n",
              "      <td>0.2069</td>\n",
              "      <td>0.05999</td>\n",
              "      <td>0.7456</td>\n",
              "      <td>0.7869</td>\n",
              "      <td>4.585</td>\n",
              "      <td>94.03</td>\n",
              "      <td>0.006150</td>\n",
              "      <td>0.04006</td>\n",
              "      <td>0.03832</td>\n",
              "      <td>0.02058</td>\n",
              "      <td>0.02250</td>\n",
              "      <td>0.004571</td>\n",
              "      <td>23.57</td>\n",
              "      <td>25.53</td>\n",
              "      <td>152.50</td>\n",
              "      <td>1709.0</td>\n",
              "      <td>0.1444</td>\n",
              "      <td>0.4245</td>\n",
              "      <td>0.4504</td>\n",
              "      <td>0.2430</td>\n",
              "      <td>0.3613</td>\n",
              "      <td>0.08758</td>\n",
              "    </tr>\n",
              "    <tr>\n",
              "      <th>3</th>\n",
              "      <td>11.42</td>\n",
              "      <td>20.38</td>\n",
              "      <td>77.58</td>\n",
              "      <td>386.1</td>\n",
              "      <td>0.14250</td>\n",
              "      <td>0.28390</td>\n",
              "      <td>0.2414</td>\n",
              "      <td>0.10520</td>\n",
              "      <td>0.2597</td>\n",
              "      <td>0.09744</td>\n",
              "      <td>0.4956</td>\n",
              "      <td>1.1560</td>\n",
              "      <td>3.445</td>\n",
              "      <td>27.23</td>\n",
              "      <td>0.009110</td>\n",
              "      <td>0.07458</td>\n",
              "      <td>0.05661</td>\n",
              "      <td>0.01867</td>\n",
              "      <td>0.05963</td>\n",
              "      <td>0.009208</td>\n",
              "      <td>14.91</td>\n",
              "      <td>26.50</td>\n",
              "      <td>98.87</td>\n",
              "      <td>567.7</td>\n",
              "      <td>0.2098</td>\n",
              "      <td>0.8663</td>\n",
              "      <td>0.6869</td>\n",
              "      <td>0.2575</td>\n",
              "      <td>0.6638</td>\n",
              "      <td>0.17300</td>\n",
              "    </tr>\n",
              "    <tr>\n",
              "      <th>4</th>\n",
              "      <td>20.29</td>\n",
              "      <td>14.34</td>\n",
              "      <td>135.10</td>\n",
              "      <td>1297.0</td>\n",
              "      <td>0.10030</td>\n",
              "      <td>0.13280</td>\n",
              "      <td>0.1980</td>\n",
              "      <td>0.10430</td>\n",
              "      <td>0.1809</td>\n",
              "      <td>0.05883</td>\n",
              "      <td>0.7572</td>\n",
              "      <td>0.7813</td>\n",
              "      <td>5.438</td>\n",
              "      <td>94.44</td>\n",
              "      <td>0.011490</td>\n",
              "      <td>0.02461</td>\n",
              "      <td>0.05688</td>\n",
              "      <td>0.01885</td>\n",
              "      <td>0.01756</td>\n",
              "      <td>0.005115</td>\n",
              "      <td>22.54</td>\n",
              "      <td>16.67</td>\n",
              "      <td>152.20</td>\n",
              "      <td>1575.0</td>\n",
              "      <td>0.1374</td>\n",
              "      <td>0.2050</td>\n",
              "      <td>0.4000</td>\n",
              "      <td>0.1625</td>\n",
              "      <td>0.2364</td>\n",
              "      <td>0.07678</td>\n",
              "    </tr>\n",
              "  </tbody>\n",
              "</table>\n",
              "</div>"
            ],
            "text/plain": [
              "   mean radius  mean texture  ...  worst symmetry  worst fractal dimension\n",
              "0        17.99         10.38  ...          0.4601                  0.11890\n",
              "1        20.57         17.77  ...          0.2750                  0.08902\n",
              "2        19.69         21.25  ...          0.3613                  0.08758\n",
              "3        11.42         20.38  ...          0.6638                  0.17300\n",
              "4        20.29         14.34  ...          0.2364                  0.07678\n",
              "\n",
              "[5 rows x 30 columns]"
            ]
          },
          "metadata": {
            "tags": []
          },
          "execution_count": 215
        }
      ]
    },
    {
      "cell_type": "code",
      "metadata": {
        "colab": {
          "base_uri": "https://localhost:8080/"
        },
        "id": "9TvQsxNNyGQC",
        "outputId": "24ee477c-2c01-4d85-e670-5fe8450ef9bf"
      },
      "source": [
        "df.isna().sum()"
      ],
      "execution_count": 216,
      "outputs": [
        {
          "output_type": "execute_result",
          "data": {
            "text/plain": [
              "mean radius                0\n",
              "mean texture               0\n",
              "mean perimeter             0\n",
              "mean area                  0\n",
              "mean smoothness            0\n",
              "mean compactness           0\n",
              "mean concavity             0\n",
              "mean concave points        0\n",
              "mean symmetry              0\n",
              "mean fractal dimension     0\n",
              "radius error               0\n",
              "texture error              0\n",
              "perimeter error            0\n",
              "area error                 0\n",
              "smoothness error           0\n",
              "compactness error          0\n",
              "concavity error            0\n",
              "concave points error       0\n",
              "symmetry error             0\n",
              "fractal dimension error    0\n",
              "worst radius               0\n",
              "worst texture              0\n",
              "worst perimeter            0\n",
              "worst area                 0\n",
              "worst smoothness           0\n",
              "worst compactness          0\n",
              "worst concavity            0\n",
              "worst concave points       0\n",
              "worst symmetry             0\n",
              "worst fractal dimension    0\n",
              "dtype: int64"
            ]
          },
          "metadata": {
            "tags": []
          },
          "execution_count": 216
        }
      ]
    },
    {
      "cell_type": "markdown",
      "metadata": {
        "id": "SuxFwKmM05G7"
      },
      "source": [
        "## GridSearchCV\n"
      ]
    },
    {
      "cell_type": "markdown",
      "metadata": {
        "id": "81zZEKgW05G7"
      },
      "source": [
        "### XGBoost"
      ]
    },
    {
      "cell_type": "code",
      "metadata": {
        "colab": {
          "base_uri": "https://localhost:8080/"
        },
        "id": "RinB6lqx05G8",
        "outputId": "c9c1eb81-bdd5-401e-8460-c6d2b11f8b0b"
      },
      "source": [
        "xgb_model = xgb.XGBRegressor(nthread = 4, objective='binary:logistic')\n",
        "param_grid = dict(\n",
        "    max_depth = [4, 5, 6, 7],\n",
        "    learning_rate = [0.1, 0.01, 0.05],\n",
        "    n_estimators = [100, 200],\n",
        "    gamma = [0, 1, 10],\n",
        "    colsample_bytree = [0.1, 0.5, 1]\n",
        ")\n",
        "grid = GridSearchCV(xgb_model, param_grid, verbose=True, scoring='roc_auc')\n",
        "grid.fit(X_train, y_train)\n",
        "\n",
        "print(end='')"
      ],
      "execution_count": 8,
      "outputs": [
        {
          "output_type": "stream",
          "text": [
            "Fitting 5 folds for each of 216 candidates, totalling 1080 fits\n"
          ],
          "name": "stdout"
        },
        {
          "output_type": "stream",
          "text": [
            "[Parallel(n_jobs=1)]: Using backend SequentialBackend with 1 concurrent workers.\n",
            "[Parallel(n_jobs=1)]: Done 1080 out of 1080 | elapsed:  2.9min finished\n"
          ],
          "name": "stderr"
        }
      ]
    },
    {
      "cell_type": "code",
      "metadata": {
        "colab": {
          "base_uri": "https://localhost:8080/"
        },
        "id": "4ppOzOY505G8",
        "outputId": "f7c67c01-07e4-4340-a2b6-088e0e53afcc"
      },
      "source": [
        "print(grid.best_params_)\n",
        "print(grid.best_score_)"
      ],
      "execution_count": 32,
      "outputs": [
        {
          "output_type": "stream",
          "text": [
            "{'colsample_bytree': 0.1, 'gamma': 1, 'learning_rate': 0.05, 'max_depth': 4, 'n_estimators': 200}\n",
            "0.9895905793385328\n"
          ],
          "name": "stdout"
        }
      ]
    },
    {
      "cell_type": "code",
      "metadata": {
        "colab": {
          "base_uri": "https://localhost:8080/"
        },
        "id": "c1qF7m0n05G8",
        "outputId": "88355d13-4bb3-4362-cb08-2533881af10c"
      },
      "source": [
        "print('Best Score: {}'.format(grid.best_score_))\n",
        "print('Test ROC_AUC: {}'.format(roc_auc_score(y_test, grid.predict(X_test))))\n",
        "print('Train ROC_AUC: {}'.format(roc_auc_score(y_train, grid.predict(X_train))))"
      ],
      "execution_count": 31,
      "outputs": [
        {
          "output_type": "stream",
          "text": [
            "Best Score: 0.9895905793385328\n",
            "Test ROC_AUC: 0.9969135802469136\n",
            "Train ROC_AUC: 1.0\n"
          ],
          "name": "stdout"
        }
      ]
    },
    {
      "cell_type": "code",
      "metadata": {
        "colab": {
          "base_uri": "https://localhost:8080/"
        },
        "id": "MSAXPJCwPSje",
        "outputId": "e0c43dea-285b-4ece-d7ab-941a9a1a2295"
      },
      "source": [
        "print('Test balanced accuracy: {}'.format(balanced_accuracy_score(y_test, (grid.predict(X_test)>0.5)*1)))\n",
        "print('Train balanced accuracy: {}'.format(balanced_accuracy_score(y_train, (grid.predict(X_train)>0.5)*1)))"
      ],
      "execution_count": 30,
      "outputs": [
        {
          "output_type": "stream",
          "text": [
            "Test balanced accuracy: 0.9715608465608465\n",
            "Train balanced accuracy: 0.9966442953020134\n"
          ],
          "name": "stdout"
        }
      ]
    },
    {
      "cell_type": "code",
      "metadata": {
        "colab": {
          "base_uri": "https://localhost:8080/"
        },
        "id": "uyga6m4kxDZ7",
        "outputId": "35f7049e-0e9d-40af-9e99-00d8510fa9a4"
      },
      "source": [
        "%time\n",
        "xgb_model = xgb.XGBRegressor(nthread = 4, objective='binary:logistic', colsample_bytree = 0.1, gamma = 1, learning_rate = 0.05, max_depth = 4, n_estimators = 200)\n",
        "xgb_model.fit(X_train, y_train)\n",
        "print()"
      ],
      "execution_count": 217,
      "outputs": [
        {
          "output_type": "stream",
          "text": [
            "CPU times: user 3 µs, sys: 0 ns, total: 3 µs\n",
            "Wall time: 6.91 µs\n",
            "\n"
          ],
          "name": "stdout"
        }
      ]
    },
    {
      "cell_type": "code",
      "metadata": {
        "colab": {
          "base_uri": "https://localhost:8080/"
        },
        "id": "-aYcBCgRxDZ8",
        "outputId": "cd157f17-4ed5-4ec9-8686-01feaccda5fd"
      },
      "source": [
        "%time\n",
        "xgb_model.predict(X_test)\n",
        "print()"
      ],
      "execution_count": 218,
      "outputs": [
        {
          "output_type": "stream",
          "text": [
            "CPU times: user 4 µs, sys: 1e+03 ns, total: 5 µs\n",
            "Wall time: 9.3 µs\n",
            "\n"
          ],
          "name": "stdout"
        }
      ]
    },
    {
      "cell_type": "markdown",
      "metadata": {
        "id": "fDT16ciT05G9"
      },
      "source": [
        "### CatBoost"
      ]
    },
    {
      "cell_type": "code",
      "metadata": {
        "colab": {
          "base_uri": "https://localhost:8080/"
        },
        "id": "e5jJCvJk05G9",
        "outputId": "5ee6984e-bee6-40ba-d035-882a3805b36a"
      },
      "source": [
        "catboost_model = ctb.CatBoostClassifier(objective='Logloss')\n",
        "param_grid = dict(\n",
        "    depth = [4, 5, 6, 7],\n",
        "    learning_rate = [0.1, 0.01, 0.05],\n",
        "    n_estimators = [100, 200],\n",
        "    logging_level = ['Silent']\n",
        ")\n",
        "grid = GridSearchCV(catboost_model, param_grid, verbose=True, scoring='roc_auc')\n",
        "grid.fit(X_train, y_train)\n",
        "\n",
        "print(end='')"
      ],
      "execution_count": 85,
      "outputs": [
        {
          "output_type": "stream",
          "text": [
            "Fitting 5 folds for each of 24 candidates, totalling 120 fits\n"
          ],
          "name": "stdout"
        },
        {
          "output_type": "stream",
          "text": [
            "[Parallel(n_jobs=1)]: Using backend SequentialBackend with 1 concurrent workers.\n",
            "[Parallel(n_jobs=1)]: Done 120 out of 120 | elapsed:  2.5min finished\n"
          ],
          "name": "stderr"
        }
      ]
    },
    {
      "cell_type": "code",
      "metadata": {
        "colab": {
          "base_uri": "https://localhost:8080/"
        },
        "id": "uyExIVxMS_Jh",
        "outputId": "799153a2-48a8-4319-d257-853e2f0c3fc3"
      },
      "source": [
        "print(grid.best_params_)\n",
        "print(grid.best_score_)\n",
        "# {'depth': 5, 'learning_rate': 0.05, 'logging_level': 'Silent', 'n_estimators': 100}\n",
        "# 0.9904242083040113"
      ],
      "execution_count": 86,
      "outputs": [
        {
          "output_type": "stream",
          "text": [
            "{'depth': 5, 'learning_rate': 0.05, 'logging_level': 'Silent', 'n_estimators': 100}\n",
            "0.9904242083040113\n"
          ],
          "name": "stdout"
        }
      ]
    },
    {
      "cell_type": "code",
      "metadata": {
        "colab": {
          "base_uri": "https://localhost:8080/"
        },
        "id": "rtHxxeMjS_Jl",
        "outputId": "9d517a16-2721-46d7-f661-59cc1721f075"
      },
      "source": [
        "print('Best Score: {}'.format(grid.best_score_))\n",
        "print('Test ROC_AUC: {}'.format(roc_auc_score(y_test, grid.predict(X_test))))\n",
        "print('Train ROC_AUC: {}'.format(roc_auc_score(y_train, grid.predict(X_train))))\n",
        "# Best Score: 0.9904242083040113\n",
        "# Test ROC_AUC: 0.9636243386243386\n",
        "# Train ROC_AUC: 1.0"
      ],
      "execution_count": 87,
      "outputs": [
        {
          "output_type": "stream",
          "text": [
            "Best Score: 0.9904242083040113\n",
            "Test ROC_AUC: 0.9636243386243386\n",
            "Train ROC_AUC: 1.0\n"
          ],
          "name": "stdout"
        }
      ]
    },
    {
      "cell_type": "code",
      "metadata": {
        "colab": {
          "base_uri": "https://localhost:8080/"
        },
        "id": "YKvML1BmS_Jm",
        "outputId": "a6b0006d-0abc-43d2-ff71-3e1041a9c0fa"
      },
      "source": [
        "print('Test balanced accuracy: {}'.format(balanced_accuracy_score(y_test, (grid.predict(X_test)>0.5)*1)))\n",
        "print('Train balanced accuracy: {}'.format(balanced_accuracy_score(y_train, (grid.predict(X_train)>0.5)*1)))\n",
        "# Test balanced accuracy: 0.9636243386243386\n",
        "# Train balanced accuracy: 1.0"
      ],
      "execution_count": 88,
      "outputs": [
        {
          "output_type": "stream",
          "text": [
            "Test balanced accuracy: 0.9636243386243386\n",
            "Train balanced accuracy: 1.0\n"
          ],
          "name": "stdout"
        }
      ]
    },
    {
      "cell_type": "code",
      "metadata": {
        "colab": {
          "base_uri": "https://localhost:8080/"
        },
        "id": "BPUGvLjUxTzb",
        "outputId": "dba56f8e-867b-4b5f-cc5f-ca0bafe69558"
      },
      "source": [
        "%time\n",
        "catboost_model = ctb.CatBoostClassifier(depth = 5, learning_rate = 0.05, logging_level = 'Silent', n_estimators = 100)\n",
        "catboost_model.fit(X_train, y_train)\n",
        "print()"
      ],
      "execution_count": 223,
      "outputs": [
        {
          "output_type": "stream",
          "text": [
            "CPU times: user 4 µs, sys: 0 ns, total: 4 µs\n",
            "Wall time: 9.54 µs\n",
            "\n"
          ],
          "name": "stdout"
        }
      ]
    },
    {
      "cell_type": "code",
      "metadata": {
        "colab": {
          "base_uri": "https://localhost:8080/"
        },
        "id": "WpmJgnVyxTzd",
        "outputId": "0756dafc-14e6-45c0-b758-5a87f9165e26"
      },
      "source": [
        "%time\n",
        "catboost_model.predict(X_test)\n",
        "print()"
      ],
      "execution_count": 224,
      "outputs": [
        {
          "output_type": "stream",
          "text": [
            "CPU times: user 4 µs, sys: 0 ns, total: 4 µs\n",
            "Wall time: 7.15 µs\n",
            "\n"
          ],
          "name": "stdout"
        }
      ]
    },
    {
      "cell_type": "markdown",
      "metadata": {
        "id": "P2GVVftK05G-"
      },
      "source": [
        "### LightGBM"
      ]
    },
    {
      "cell_type": "code",
      "metadata": {
        "colab": {
          "base_uri": "https://localhost:8080/"
        },
        "id": "HhxFr1UA05G-",
        "outputId": "fdb8e794-b449-452b-d570-3ece39a2ddef"
      },
      "source": [
        "lightgbm_model = lgb.LGBMClassifier(objective='binary')\n",
        "param_grid = dict(\n",
        "    num_leaves = [4, 5, 7, 15],\n",
        "    learning_rate = [0.1, 0.01, 0.05],\n",
        "    n_estimators = [100, 200],\n",
        "    logging_level = ['Silent'],\n",
        "    max_depth = [4, 5, 6, 7, -1]\n",
        ")\n",
        "grid = GridSearchCV(lightgbm_model, param_grid, verbose=True, scoring='roc_auc')\n",
        "grid.fit(X_train, y_train)\n",
        "\n",
        "print(end='')"
      ],
      "execution_count": 78,
      "outputs": [
        {
          "output_type": "stream",
          "text": [
            "Fitting 5 folds for each of 120 candidates, totalling 600 fits\n"
          ],
          "name": "stdout"
        },
        {
          "output_type": "stream",
          "text": [
            "[Parallel(n_jobs=1)]: Using backend SequentialBackend with 1 concurrent workers.\n",
            "[Parallel(n_jobs=1)]: Done 600 out of 600 | elapsed:  1.5min finished\n"
          ],
          "name": "stderr"
        }
      ]
    },
    {
      "cell_type": "code",
      "metadata": {
        "colab": {
          "base_uri": "https://localhost:8080/"
        },
        "id": "rLCaZSpJVuRP",
        "outputId": "4404dddb-925f-4e93-c2c2-58ca82b6d461"
      },
      "source": [
        "print(grid.best_params_)\n",
        "print(grid.best_score_)"
      ],
      "execution_count": 82,
      "outputs": [
        {
          "output_type": "stream",
          "text": [
            "{'learning_rate': 0.1, 'logging_level': 'Silent', 'max_depth': 4, 'n_estimators': 200, 'num_leaves': 7}\n",
            "0.9906770818672296\n"
          ],
          "name": "stdout"
        }
      ]
    },
    {
      "cell_type": "code",
      "metadata": {
        "colab": {
          "base_uri": "https://localhost:8080/"
        },
        "id": "KVf6n5yaVuRQ",
        "outputId": "784c93ef-fd00-4567-9c25-82ebca466655"
      },
      "source": [
        "print('Best Score: {}'.format(grid.best_score_))\n",
        "print('Test ROC_AUC: {}'.format(roc_auc_score(y_test, grid.predict(X_test))))\n",
        "print('Train ROC_AUC: {}'.format(roc_auc_score(y_train, grid.predict(X_train))))"
      ],
      "execution_count": 83,
      "outputs": [
        {
          "output_type": "stream",
          "text": [
            "Best Score: 0.9906770818672296\n",
            "Test ROC_AUC: 0.9543650793650794\n",
            "Train ROC_AUC: 1.0\n"
          ],
          "name": "stdout"
        }
      ]
    },
    {
      "cell_type": "code",
      "metadata": {
        "colab": {
          "base_uri": "https://localhost:8080/"
        },
        "id": "AYIl41TEVuRQ",
        "outputId": "b46bb649-7f86-4abe-d743-0e2f1ebe864b"
      },
      "source": [
        "print('Test balanced accuracy: {}'.format(balanced_accuracy_score(y_test, (grid.predict(X_test)>0.5)*1)))\n",
        "print('Train balanced accuracy: {}'.format(balanced_accuracy_score(y_train, (grid.predict(X_train)>0.5)*1)))"
      ],
      "execution_count": 84,
      "outputs": [
        {
          "output_type": "stream",
          "text": [
            "Test balanced accuracy: 0.9543650793650793\n",
            "Train balanced accuracy: 1.0\n"
          ],
          "name": "stdout"
        }
      ]
    },
    {
      "cell_type": "code",
      "metadata": {
        "colab": {
          "base_uri": "https://localhost:8080/"
        },
        "id": "ZGpjvGlDxeg3",
        "outputId": "645582f9-dd6a-4cf8-8918-f4d8b398f1c1"
      },
      "source": [
        "%time\n",
        "lightgbm_model = lgb.LGBMClassifier(learning_rate = 0.1, logging_level = 'Silent', max_depth = 4, n_estimators = 200, num_leaves = 7)\n",
        "lightgbm_model.fit(X_train, y_train)\n",
        "print()"
      ],
      "execution_count": 221,
      "outputs": [
        {
          "output_type": "stream",
          "text": [
            "CPU times: user 4 µs, sys: 0 ns, total: 4 µs\n",
            "Wall time: 9.06 µs\n",
            "\n"
          ],
          "name": "stdout"
        }
      ]
    },
    {
      "cell_type": "code",
      "metadata": {
        "colab": {
          "base_uri": "https://localhost:8080/"
        },
        "id": "3DkG8XqDxeg4",
        "outputId": "36ee9ef8-c1bf-4a3c-977c-822235d896e8"
      },
      "source": [
        "%time\n",
        "lightgbm_model.predict(X_test)\n",
        "print()"
      ],
      "execution_count": 222,
      "outputs": [
        {
          "output_type": "stream",
          "text": [
            "CPU times: user 0 ns, sys: 3 µs, total: 3 µs\n",
            "Wall time: 6.91 µs\n",
            "\n"
          ],
          "name": "stdout"
        }
      ]
    },
    {
      "cell_type": "markdown",
      "metadata": {
        "id": "MxV403Db05G_"
      },
      "source": [
        "##Вывод"
      ]
    },
    {
      "cell_type": "markdown",
      "metadata": {
        "id": "oVkdAaFc05G_"
      },
      "source": [
        "Результаты:\n",
        "\n",
        "| Breast Cancer | XGBoost | CatBoost | LightGBM |\n",
        "| --- | --- | --- | --- |\n",
        "| Best Parameters| 'colsample_bytree': 0.1,  <br /> 'gamma': 1,  <br />'learning_rate': 0.05,  <br /> 'max_depth': 4, <br /> 'n_estimators': 200 | 'depth': 5, <br /> 'learning_rate': 0.05, <br /> 'n_estimators': 100|  'learning_rate': 0.1, <br /> 'max_depth': 4, <br /> 'n_estimators': 200, <br /> 'num_leaves': 7 |\n",
        "| Train ROC_AUC   | 1.0       | 1.0       | 1.0  |\n",
        "| Test ROC_AUC    | 0.9969136 | 0.9636243 | 0.9543650  |\n",
        "| Parameter <br /> Tuning Time      | 2.9min <br /> (1080 iter) | 2.5min <br /> (120 iter) |  1.5min <br /> (600 iter)  |"
      ]
    },
    {
      "cell_type": "markdown",
      "metadata": {
        "id": "oByt_P5zoMek"
      },
      "source": [
        "# House Prices (Задача регрессии)"
      ]
    },
    {
      "cell_type": "markdown",
      "metadata": {
        "id": "CSA65DlboMel"
      },
      "source": [
        "## Готовим датасет\n"
      ]
    },
    {
      "cell_type": "code",
      "metadata": {
        "id": "vQYg7JH0oMel"
      },
      "source": [
        "df = pd.read_csv('train_House.csv')"
      ],
      "execution_count": 225,
      "outputs": []
    },
    {
      "cell_type": "code",
      "metadata": {
        "colab": {
          "base_uri": "https://localhost:8080/",
          "height": 251
        },
        "id": "canhzn66gjn2",
        "outputId": "4ed515bc-6a43-4967-cd83-be69e6ba9bf3"
      },
      "source": [
        "df.head()"
      ],
      "execution_count": 226,
      "outputs": [
        {
          "output_type": "execute_result",
          "data": {
            "text/html": [
              "<div>\n",
              "<style scoped>\n",
              "    .dataframe tbody tr th:only-of-type {\n",
              "        vertical-align: middle;\n",
              "    }\n",
              "\n",
              "    .dataframe tbody tr th {\n",
              "        vertical-align: top;\n",
              "    }\n",
              "\n",
              "    .dataframe thead th {\n",
              "        text-align: right;\n",
              "    }\n",
              "</style>\n",
              "<table border=\"1\" class=\"dataframe\">\n",
              "  <thead>\n",
              "    <tr style=\"text-align: right;\">\n",
              "      <th></th>\n",
              "      <th>Id</th>\n",
              "      <th>MSSubClass</th>\n",
              "      <th>MSZoning</th>\n",
              "      <th>LotFrontage</th>\n",
              "      <th>LotArea</th>\n",
              "      <th>Street</th>\n",
              "      <th>Alley</th>\n",
              "      <th>LotShape</th>\n",
              "      <th>LandContour</th>\n",
              "      <th>Utilities</th>\n",
              "      <th>LotConfig</th>\n",
              "      <th>LandSlope</th>\n",
              "      <th>Neighborhood</th>\n",
              "      <th>Condition1</th>\n",
              "      <th>Condition2</th>\n",
              "      <th>BldgType</th>\n",
              "      <th>HouseStyle</th>\n",
              "      <th>OverallQual</th>\n",
              "      <th>OverallCond</th>\n",
              "      <th>YearBuilt</th>\n",
              "      <th>YearRemodAdd</th>\n",
              "      <th>RoofStyle</th>\n",
              "      <th>RoofMatl</th>\n",
              "      <th>Exterior1st</th>\n",
              "      <th>Exterior2nd</th>\n",
              "      <th>MasVnrType</th>\n",
              "      <th>MasVnrArea</th>\n",
              "      <th>ExterQual</th>\n",
              "      <th>ExterCond</th>\n",
              "      <th>Foundation</th>\n",
              "      <th>BsmtQual</th>\n",
              "      <th>BsmtCond</th>\n",
              "      <th>BsmtExposure</th>\n",
              "      <th>BsmtFinType1</th>\n",
              "      <th>BsmtFinSF1</th>\n",
              "      <th>BsmtFinType2</th>\n",
              "      <th>BsmtFinSF2</th>\n",
              "      <th>BsmtUnfSF</th>\n",
              "      <th>TotalBsmtSF</th>\n",
              "      <th>Heating</th>\n",
              "      <th>...</th>\n",
              "      <th>CentralAir</th>\n",
              "      <th>Electrical</th>\n",
              "      <th>1stFlrSF</th>\n",
              "      <th>2ndFlrSF</th>\n",
              "      <th>LowQualFinSF</th>\n",
              "      <th>GrLivArea</th>\n",
              "      <th>BsmtFullBath</th>\n",
              "      <th>BsmtHalfBath</th>\n",
              "      <th>FullBath</th>\n",
              "      <th>HalfBath</th>\n",
              "      <th>BedroomAbvGr</th>\n",
              "      <th>KitchenAbvGr</th>\n",
              "      <th>KitchenQual</th>\n",
              "      <th>TotRmsAbvGrd</th>\n",
              "      <th>Functional</th>\n",
              "      <th>Fireplaces</th>\n",
              "      <th>FireplaceQu</th>\n",
              "      <th>GarageType</th>\n",
              "      <th>GarageYrBlt</th>\n",
              "      <th>GarageFinish</th>\n",
              "      <th>GarageCars</th>\n",
              "      <th>GarageArea</th>\n",
              "      <th>GarageQual</th>\n",
              "      <th>GarageCond</th>\n",
              "      <th>PavedDrive</th>\n",
              "      <th>WoodDeckSF</th>\n",
              "      <th>OpenPorchSF</th>\n",
              "      <th>EnclosedPorch</th>\n",
              "      <th>3SsnPorch</th>\n",
              "      <th>ScreenPorch</th>\n",
              "      <th>PoolArea</th>\n",
              "      <th>PoolQC</th>\n",
              "      <th>Fence</th>\n",
              "      <th>MiscFeature</th>\n",
              "      <th>MiscVal</th>\n",
              "      <th>MoSold</th>\n",
              "      <th>YrSold</th>\n",
              "      <th>SaleType</th>\n",
              "      <th>SaleCondition</th>\n",
              "      <th>SalePrice</th>\n",
              "    </tr>\n",
              "  </thead>\n",
              "  <tbody>\n",
              "    <tr>\n",
              "      <th>0</th>\n",
              "      <td>1</td>\n",
              "      <td>60</td>\n",
              "      <td>RL</td>\n",
              "      <td>65.0</td>\n",
              "      <td>8450</td>\n",
              "      <td>Pave</td>\n",
              "      <td>NaN</td>\n",
              "      <td>Reg</td>\n",
              "      <td>Lvl</td>\n",
              "      <td>AllPub</td>\n",
              "      <td>Inside</td>\n",
              "      <td>Gtl</td>\n",
              "      <td>CollgCr</td>\n",
              "      <td>Norm</td>\n",
              "      <td>Norm</td>\n",
              "      <td>1Fam</td>\n",
              "      <td>2Story</td>\n",
              "      <td>7</td>\n",
              "      <td>5</td>\n",
              "      <td>2003</td>\n",
              "      <td>2003</td>\n",
              "      <td>Gable</td>\n",
              "      <td>CompShg</td>\n",
              "      <td>VinylSd</td>\n",
              "      <td>VinylSd</td>\n",
              "      <td>BrkFace</td>\n",
              "      <td>196.0</td>\n",
              "      <td>Gd</td>\n",
              "      <td>TA</td>\n",
              "      <td>PConc</td>\n",
              "      <td>Gd</td>\n",
              "      <td>TA</td>\n",
              "      <td>No</td>\n",
              "      <td>GLQ</td>\n",
              "      <td>706</td>\n",
              "      <td>Unf</td>\n",
              "      <td>0</td>\n",
              "      <td>150</td>\n",
              "      <td>856</td>\n",
              "      <td>GasA</td>\n",
              "      <td>...</td>\n",
              "      <td>Y</td>\n",
              "      <td>SBrkr</td>\n",
              "      <td>856</td>\n",
              "      <td>854</td>\n",
              "      <td>0</td>\n",
              "      <td>1710</td>\n",
              "      <td>1</td>\n",
              "      <td>0</td>\n",
              "      <td>2</td>\n",
              "      <td>1</td>\n",
              "      <td>3</td>\n",
              "      <td>1</td>\n",
              "      <td>Gd</td>\n",
              "      <td>8</td>\n",
              "      <td>Typ</td>\n",
              "      <td>0</td>\n",
              "      <td>NaN</td>\n",
              "      <td>Attchd</td>\n",
              "      <td>2003.0</td>\n",
              "      <td>RFn</td>\n",
              "      <td>2</td>\n",
              "      <td>548</td>\n",
              "      <td>TA</td>\n",
              "      <td>TA</td>\n",
              "      <td>Y</td>\n",
              "      <td>0</td>\n",
              "      <td>61</td>\n",
              "      <td>0</td>\n",
              "      <td>0</td>\n",
              "      <td>0</td>\n",
              "      <td>0</td>\n",
              "      <td>NaN</td>\n",
              "      <td>NaN</td>\n",
              "      <td>NaN</td>\n",
              "      <td>0</td>\n",
              "      <td>2</td>\n",
              "      <td>2008</td>\n",
              "      <td>WD</td>\n",
              "      <td>Normal</td>\n",
              "      <td>208500</td>\n",
              "    </tr>\n",
              "    <tr>\n",
              "      <th>1</th>\n",
              "      <td>2</td>\n",
              "      <td>20</td>\n",
              "      <td>RL</td>\n",
              "      <td>80.0</td>\n",
              "      <td>9600</td>\n",
              "      <td>Pave</td>\n",
              "      <td>NaN</td>\n",
              "      <td>Reg</td>\n",
              "      <td>Lvl</td>\n",
              "      <td>AllPub</td>\n",
              "      <td>FR2</td>\n",
              "      <td>Gtl</td>\n",
              "      <td>Veenker</td>\n",
              "      <td>Feedr</td>\n",
              "      <td>Norm</td>\n",
              "      <td>1Fam</td>\n",
              "      <td>1Story</td>\n",
              "      <td>6</td>\n",
              "      <td>8</td>\n",
              "      <td>1976</td>\n",
              "      <td>1976</td>\n",
              "      <td>Gable</td>\n",
              "      <td>CompShg</td>\n",
              "      <td>MetalSd</td>\n",
              "      <td>MetalSd</td>\n",
              "      <td>None</td>\n",
              "      <td>0.0</td>\n",
              "      <td>TA</td>\n",
              "      <td>TA</td>\n",
              "      <td>CBlock</td>\n",
              "      <td>Gd</td>\n",
              "      <td>TA</td>\n",
              "      <td>Gd</td>\n",
              "      <td>ALQ</td>\n",
              "      <td>978</td>\n",
              "      <td>Unf</td>\n",
              "      <td>0</td>\n",
              "      <td>284</td>\n",
              "      <td>1262</td>\n",
              "      <td>GasA</td>\n",
              "      <td>...</td>\n",
              "      <td>Y</td>\n",
              "      <td>SBrkr</td>\n",
              "      <td>1262</td>\n",
              "      <td>0</td>\n",
              "      <td>0</td>\n",
              "      <td>1262</td>\n",
              "      <td>0</td>\n",
              "      <td>1</td>\n",
              "      <td>2</td>\n",
              "      <td>0</td>\n",
              "      <td>3</td>\n",
              "      <td>1</td>\n",
              "      <td>TA</td>\n",
              "      <td>6</td>\n",
              "      <td>Typ</td>\n",
              "      <td>1</td>\n",
              "      <td>TA</td>\n",
              "      <td>Attchd</td>\n",
              "      <td>1976.0</td>\n",
              "      <td>RFn</td>\n",
              "      <td>2</td>\n",
              "      <td>460</td>\n",
              "      <td>TA</td>\n",
              "      <td>TA</td>\n",
              "      <td>Y</td>\n",
              "      <td>298</td>\n",
              "      <td>0</td>\n",
              "      <td>0</td>\n",
              "      <td>0</td>\n",
              "      <td>0</td>\n",
              "      <td>0</td>\n",
              "      <td>NaN</td>\n",
              "      <td>NaN</td>\n",
              "      <td>NaN</td>\n",
              "      <td>0</td>\n",
              "      <td>5</td>\n",
              "      <td>2007</td>\n",
              "      <td>WD</td>\n",
              "      <td>Normal</td>\n",
              "      <td>181500</td>\n",
              "    </tr>\n",
              "    <tr>\n",
              "      <th>2</th>\n",
              "      <td>3</td>\n",
              "      <td>60</td>\n",
              "      <td>RL</td>\n",
              "      <td>68.0</td>\n",
              "      <td>11250</td>\n",
              "      <td>Pave</td>\n",
              "      <td>NaN</td>\n",
              "      <td>IR1</td>\n",
              "      <td>Lvl</td>\n",
              "      <td>AllPub</td>\n",
              "      <td>Inside</td>\n",
              "      <td>Gtl</td>\n",
              "      <td>CollgCr</td>\n",
              "      <td>Norm</td>\n",
              "      <td>Norm</td>\n",
              "      <td>1Fam</td>\n",
              "      <td>2Story</td>\n",
              "      <td>7</td>\n",
              "      <td>5</td>\n",
              "      <td>2001</td>\n",
              "      <td>2002</td>\n",
              "      <td>Gable</td>\n",
              "      <td>CompShg</td>\n",
              "      <td>VinylSd</td>\n",
              "      <td>VinylSd</td>\n",
              "      <td>BrkFace</td>\n",
              "      <td>162.0</td>\n",
              "      <td>Gd</td>\n",
              "      <td>TA</td>\n",
              "      <td>PConc</td>\n",
              "      <td>Gd</td>\n",
              "      <td>TA</td>\n",
              "      <td>Mn</td>\n",
              "      <td>GLQ</td>\n",
              "      <td>486</td>\n",
              "      <td>Unf</td>\n",
              "      <td>0</td>\n",
              "      <td>434</td>\n",
              "      <td>920</td>\n",
              "      <td>GasA</td>\n",
              "      <td>...</td>\n",
              "      <td>Y</td>\n",
              "      <td>SBrkr</td>\n",
              "      <td>920</td>\n",
              "      <td>866</td>\n",
              "      <td>0</td>\n",
              "      <td>1786</td>\n",
              "      <td>1</td>\n",
              "      <td>0</td>\n",
              "      <td>2</td>\n",
              "      <td>1</td>\n",
              "      <td>3</td>\n",
              "      <td>1</td>\n",
              "      <td>Gd</td>\n",
              "      <td>6</td>\n",
              "      <td>Typ</td>\n",
              "      <td>1</td>\n",
              "      <td>TA</td>\n",
              "      <td>Attchd</td>\n",
              "      <td>2001.0</td>\n",
              "      <td>RFn</td>\n",
              "      <td>2</td>\n",
              "      <td>608</td>\n",
              "      <td>TA</td>\n",
              "      <td>TA</td>\n",
              "      <td>Y</td>\n",
              "      <td>0</td>\n",
              "      <td>42</td>\n",
              "      <td>0</td>\n",
              "      <td>0</td>\n",
              "      <td>0</td>\n",
              "      <td>0</td>\n",
              "      <td>NaN</td>\n",
              "      <td>NaN</td>\n",
              "      <td>NaN</td>\n",
              "      <td>0</td>\n",
              "      <td>9</td>\n",
              "      <td>2008</td>\n",
              "      <td>WD</td>\n",
              "      <td>Normal</td>\n",
              "      <td>223500</td>\n",
              "    </tr>\n",
              "    <tr>\n",
              "      <th>3</th>\n",
              "      <td>4</td>\n",
              "      <td>70</td>\n",
              "      <td>RL</td>\n",
              "      <td>60.0</td>\n",
              "      <td>9550</td>\n",
              "      <td>Pave</td>\n",
              "      <td>NaN</td>\n",
              "      <td>IR1</td>\n",
              "      <td>Lvl</td>\n",
              "      <td>AllPub</td>\n",
              "      <td>Corner</td>\n",
              "      <td>Gtl</td>\n",
              "      <td>Crawfor</td>\n",
              "      <td>Norm</td>\n",
              "      <td>Norm</td>\n",
              "      <td>1Fam</td>\n",
              "      <td>2Story</td>\n",
              "      <td>7</td>\n",
              "      <td>5</td>\n",
              "      <td>1915</td>\n",
              "      <td>1970</td>\n",
              "      <td>Gable</td>\n",
              "      <td>CompShg</td>\n",
              "      <td>Wd Sdng</td>\n",
              "      <td>Wd Shng</td>\n",
              "      <td>None</td>\n",
              "      <td>0.0</td>\n",
              "      <td>TA</td>\n",
              "      <td>TA</td>\n",
              "      <td>BrkTil</td>\n",
              "      <td>TA</td>\n",
              "      <td>Gd</td>\n",
              "      <td>No</td>\n",
              "      <td>ALQ</td>\n",
              "      <td>216</td>\n",
              "      <td>Unf</td>\n",
              "      <td>0</td>\n",
              "      <td>540</td>\n",
              "      <td>756</td>\n",
              "      <td>GasA</td>\n",
              "      <td>...</td>\n",
              "      <td>Y</td>\n",
              "      <td>SBrkr</td>\n",
              "      <td>961</td>\n",
              "      <td>756</td>\n",
              "      <td>0</td>\n",
              "      <td>1717</td>\n",
              "      <td>1</td>\n",
              "      <td>0</td>\n",
              "      <td>1</td>\n",
              "      <td>0</td>\n",
              "      <td>3</td>\n",
              "      <td>1</td>\n",
              "      <td>Gd</td>\n",
              "      <td>7</td>\n",
              "      <td>Typ</td>\n",
              "      <td>1</td>\n",
              "      <td>Gd</td>\n",
              "      <td>Detchd</td>\n",
              "      <td>1998.0</td>\n",
              "      <td>Unf</td>\n",
              "      <td>3</td>\n",
              "      <td>642</td>\n",
              "      <td>TA</td>\n",
              "      <td>TA</td>\n",
              "      <td>Y</td>\n",
              "      <td>0</td>\n",
              "      <td>35</td>\n",
              "      <td>272</td>\n",
              "      <td>0</td>\n",
              "      <td>0</td>\n",
              "      <td>0</td>\n",
              "      <td>NaN</td>\n",
              "      <td>NaN</td>\n",
              "      <td>NaN</td>\n",
              "      <td>0</td>\n",
              "      <td>2</td>\n",
              "      <td>2006</td>\n",
              "      <td>WD</td>\n",
              "      <td>Abnorml</td>\n",
              "      <td>140000</td>\n",
              "    </tr>\n",
              "    <tr>\n",
              "      <th>4</th>\n",
              "      <td>5</td>\n",
              "      <td>60</td>\n",
              "      <td>RL</td>\n",
              "      <td>84.0</td>\n",
              "      <td>14260</td>\n",
              "      <td>Pave</td>\n",
              "      <td>NaN</td>\n",
              "      <td>IR1</td>\n",
              "      <td>Lvl</td>\n",
              "      <td>AllPub</td>\n",
              "      <td>FR2</td>\n",
              "      <td>Gtl</td>\n",
              "      <td>NoRidge</td>\n",
              "      <td>Norm</td>\n",
              "      <td>Norm</td>\n",
              "      <td>1Fam</td>\n",
              "      <td>2Story</td>\n",
              "      <td>8</td>\n",
              "      <td>5</td>\n",
              "      <td>2000</td>\n",
              "      <td>2000</td>\n",
              "      <td>Gable</td>\n",
              "      <td>CompShg</td>\n",
              "      <td>VinylSd</td>\n",
              "      <td>VinylSd</td>\n",
              "      <td>BrkFace</td>\n",
              "      <td>350.0</td>\n",
              "      <td>Gd</td>\n",
              "      <td>TA</td>\n",
              "      <td>PConc</td>\n",
              "      <td>Gd</td>\n",
              "      <td>TA</td>\n",
              "      <td>Av</td>\n",
              "      <td>GLQ</td>\n",
              "      <td>655</td>\n",
              "      <td>Unf</td>\n",
              "      <td>0</td>\n",
              "      <td>490</td>\n",
              "      <td>1145</td>\n",
              "      <td>GasA</td>\n",
              "      <td>...</td>\n",
              "      <td>Y</td>\n",
              "      <td>SBrkr</td>\n",
              "      <td>1145</td>\n",
              "      <td>1053</td>\n",
              "      <td>0</td>\n",
              "      <td>2198</td>\n",
              "      <td>1</td>\n",
              "      <td>0</td>\n",
              "      <td>2</td>\n",
              "      <td>1</td>\n",
              "      <td>4</td>\n",
              "      <td>1</td>\n",
              "      <td>Gd</td>\n",
              "      <td>9</td>\n",
              "      <td>Typ</td>\n",
              "      <td>1</td>\n",
              "      <td>TA</td>\n",
              "      <td>Attchd</td>\n",
              "      <td>2000.0</td>\n",
              "      <td>RFn</td>\n",
              "      <td>3</td>\n",
              "      <td>836</td>\n",
              "      <td>TA</td>\n",
              "      <td>TA</td>\n",
              "      <td>Y</td>\n",
              "      <td>192</td>\n",
              "      <td>84</td>\n",
              "      <td>0</td>\n",
              "      <td>0</td>\n",
              "      <td>0</td>\n",
              "      <td>0</td>\n",
              "      <td>NaN</td>\n",
              "      <td>NaN</td>\n",
              "      <td>NaN</td>\n",
              "      <td>0</td>\n",
              "      <td>12</td>\n",
              "      <td>2008</td>\n",
              "      <td>WD</td>\n",
              "      <td>Normal</td>\n",
              "      <td>250000</td>\n",
              "    </tr>\n",
              "  </tbody>\n",
              "</table>\n",
              "<p>5 rows × 81 columns</p>\n",
              "</div>"
            ],
            "text/plain": [
              "   Id  MSSubClass MSZoning  ...  SaleType  SaleCondition SalePrice\n",
              "0   1          60       RL  ...        WD         Normal    208500\n",
              "1   2          20       RL  ...        WD         Normal    181500\n",
              "2   3          60       RL  ...        WD         Normal    223500\n",
              "3   4          70       RL  ...        WD        Abnorml    140000\n",
              "4   5          60       RL  ...        WD         Normal    250000\n",
              "\n",
              "[5 rows x 81 columns]"
            ]
          },
          "metadata": {
            "tags": []
          },
          "execution_count": 226
        }
      ]
    },
    {
      "cell_type": "code",
      "metadata": {
        "colab": {
          "base_uri": "https://localhost:8080/"
        },
        "id": "OVEKquAkhWj8",
        "outputId": "30c6c1fd-ef83-4aa9-c9bb-64fb246b83ab"
      },
      "source": [
        "df.info()"
      ],
      "execution_count": 227,
      "outputs": [
        {
          "output_type": "stream",
          "text": [
            "<class 'pandas.core.frame.DataFrame'>\n",
            "RangeIndex: 1460 entries, 0 to 1459\n",
            "Data columns (total 81 columns):\n",
            " #   Column         Non-Null Count  Dtype  \n",
            "---  ------         --------------  -----  \n",
            " 0   Id             1460 non-null   int64  \n",
            " 1   MSSubClass     1460 non-null   int64  \n",
            " 2   MSZoning       1460 non-null   object \n",
            " 3   LotFrontage    1201 non-null   float64\n",
            " 4   LotArea        1460 non-null   int64  \n",
            " 5   Street         1460 non-null   object \n",
            " 6   Alley          91 non-null     object \n",
            " 7   LotShape       1460 non-null   object \n",
            " 8   LandContour    1460 non-null   object \n",
            " 9   Utilities      1460 non-null   object \n",
            " 10  LotConfig      1460 non-null   object \n",
            " 11  LandSlope      1460 non-null   object \n",
            " 12  Neighborhood   1460 non-null   object \n",
            " 13  Condition1     1460 non-null   object \n",
            " 14  Condition2     1460 non-null   object \n",
            " 15  BldgType       1460 non-null   object \n",
            " 16  HouseStyle     1460 non-null   object \n",
            " 17  OverallQual    1460 non-null   int64  \n",
            " 18  OverallCond    1460 non-null   int64  \n",
            " 19  YearBuilt      1460 non-null   int64  \n",
            " 20  YearRemodAdd   1460 non-null   int64  \n",
            " 21  RoofStyle      1460 non-null   object \n",
            " 22  RoofMatl       1460 non-null   object \n",
            " 23  Exterior1st    1460 non-null   object \n",
            " 24  Exterior2nd    1460 non-null   object \n",
            " 25  MasVnrType     1452 non-null   object \n",
            " 26  MasVnrArea     1452 non-null   float64\n",
            " 27  ExterQual      1460 non-null   object \n",
            " 28  ExterCond      1460 non-null   object \n",
            " 29  Foundation     1460 non-null   object \n",
            " 30  BsmtQual       1423 non-null   object \n",
            " 31  BsmtCond       1423 non-null   object \n",
            " 32  BsmtExposure   1422 non-null   object \n",
            " 33  BsmtFinType1   1423 non-null   object \n",
            " 34  BsmtFinSF1     1460 non-null   int64  \n",
            " 35  BsmtFinType2   1422 non-null   object \n",
            " 36  BsmtFinSF2     1460 non-null   int64  \n",
            " 37  BsmtUnfSF      1460 non-null   int64  \n",
            " 38  TotalBsmtSF    1460 non-null   int64  \n",
            " 39  Heating        1460 non-null   object \n",
            " 40  HeatingQC      1460 non-null   object \n",
            " 41  CentralAir     1460 non-null   object \n",
            " 42  Electrical     1459 non-null   object \n",
            " 43  1stFlrSF       1460 non-null   int64  \n",
            " 44  2ndFlrSF       1460 non-null   int64  \n",
            " 45  LowQualFinSF   1460 non-null   int64  \n",
            " 46  GrLivArea      1460 non-null   int64  \n",
            " 47  BsmtFullBath   1460 non-null   int64  \n",
            " 48  BsmtHalfBath   1460 non-null   int64  \n",
            " 49  FullBath       1460 non-null   int64  \n",
            " 50  HalfBath       1460 non-null   int64  \n",
            " 51  BedroomAbvGr   1460 non-null   int64  \n",
            " 52  KitchenAbvGr   1460 non-null   int64  \n",
            " 53  KitchenQual    1460 non-null   object \n",
            " 54  TotRmsAbvGrd   1460 non-null   int64  \n",
            " 55  Functional     1460 non-null   object \n",
            " 56  Fireplaces     1460 non-null   int64  \n",
            " 57  FireplaceQu    770 non-null    object \n",
            " 58  GarageType     1379 non-null   object \n",
            " 59  GarageYrBlt    1379 non-null   float64\n",
            " 60  GarageFinish   1379 non-null   object \n",
            " 61  GarageCars     1460 non-null   int64  \n",
            " 62  GarageArea     1460 non-null   int64  \n",
            " 63  GarageQual     1379 non-null   object \n",
            " 64  GarageCond     1379 non-null   object \n",
            " 65  PavedDrive     1460 non-null   object \n",
            " 66  WoodDeckSF     1460 non-null   int64  \n",
            " 67  OpenPorchSF    1460 non-null   int64  \n",
            " 68  EnclosedPorch  1460 non-null   int64  \n",
            " 69  3SsnPorch      1460 non-null   int64  \n",
            " 70  ScreenPorch    1460 non-null   int64  \n",
            " 71  PoolArea       1460 non-null   int64  \n",
            " 72  PoolQC         7 non-null      object \n",
            " 73  Fence          281 non-null    object \n",
            " 74  MiscFeature    54 non-null     object \n",
            " 75  MiscVal        1460 non-null   int64  \n",
            " 76  MoSold         1460 non-null   int64  \n",
            " 77  YrSold         1460 non-null   int64  \n",
            " 78  SaleType       1460 non-null   object \n",
            " 79  SaleCondition  1460 non-null   object \n",
            " 80  SalePrice      1460 non-null   int64  \n",
            "dtypes: float64(3), int64(35), object(43)\n",
            "memory usage: 924.0+ KB\n"
          ],
          "name": "stdout"
        }
      ]
    },
    {
      "cell_type": "code",
      "metadata": {
        "id": "0NbEInujjZmN"
      },
      "source": [
        "# REMOVE THE OUTLIERS\n",
        "df = df.drop(df[(df[\"GrLivArea\"] > 4000) \n",
        "                         & (df[\"SalePrice\"] < 200000)].index).reset_index(drop = True)\n",
        "df = df.drop(df[(df[\"GarageCars\"] > 3) \n",
        "                         & (df[\"SalePrice\"] < 300000)].index).reset_index(drop = True)"
      ],
      "execution_count": 228,
      "outputs": []
    },
    {
      "cell_type": "code",
      "metadata": {
        "id": "gFrBuJO6kGK0"
      },
      "source": [
        "# FILL THE MISSING VALUES\n",
        "some_miss_columns = [\"PoolQC\",\"MiscFeature\",\"Alley\",\"Fence\",\"FireplaceQu\",\"GarageType\",\"GarageFinish\",\"GarageQual\",\"GarageCond\",\n",
        "                  \"BsmtQual\",\"BsmtCond\",\"BsmtExposure\",\"BsmtFinType1\",\"BsmtFinType2\",\"MasVnrType\",\"MSSubClass\"]\n",
        "\n",
        "for i in some_miss_columns :\n",
        "        df[i].fillna(\"None\" , inplace = True)"
      ],
      "execution_count": 229,
      "outputs": []
    },
    {
      "cell_type": "code",
      "metadata": {
        "id": "ol5ZkQaMkkTD"
      },
      "source": [
        "df[\"Functional\"] = df[\"Functional\"].fillna(\"Typ\")"
      ],
      "execution_count": 230,
      "outputs": []
    },
    {
      "cell_type": "code",
      "metadata": {
        "id": "fqQCsHEVknPJ"
      },
      "source": [
        "some_miss_columns2 = [\"MSZoning\", \"BsmtFullBath\", \"BsmtHalfBath\", \"Utilities\",\"MSZoning\",\n",
        "                      \"Electrical\", \"KitchenQual\", \"SaleType\",\"Exterior1st\", \"Exterior2nd\",\"MasVnrArea\"]\n",
        "for i in some_miss_columns2:\n",
        "    df[i].fillna(df[i].mode()[0], inplace = True)"
      ],
      "execution_count": 231,
      "outputs": []
    },
    {
      "cell_type": "code",
      "metadata": {
        "id": "xdmXTNo-k7N3"
      },
      "source": [
        "some_miss_columns3 = [\"GarageYrBlt\", \"GarageArea\", \"GarageCars\",\"BsmtFinSF1\",\"BsmtFinSF2\",\"BsmtUnfSF\",\"TotalBsmtSF\"]\n",
        "for i in some_miss_columns3 :\n",
        "    df[i] = df[i].fillna(0)"
      ],
      "execution_count": 232,
      "outputs": []
    },
    {
      "cell_type": "code",
      "metadata": {
        "id": "5SZlDq4pk9pO"
      },
      "source": [
        "df[\"LotFrontage\"] = df.groupby(\"Neighborhood\")[\"LotFrontage\"].transform(lambda x: x.fillna(x.median()))"
      ],
      "execution_count": 233,
      "outputs": []
    },
    {
      "cell_type": "code",
      "metadata": {
        "colab": {
          "base_uri": "https://localhost:8080/"
        },
        "id": "XlzEF-kWk_dN",
        "outputId": "8b88fd46-356f-4d82-f7f3-6f94c936172a"
      },
      "source": [
        "df.isna().sum().nlargest(3) # Избавились от null"
      ],
      "execution_count": 234,
      "outputs": [
        {
          "output_type": "execute_result",
          "data": {
            "text/plain": [
              "Id            0\n",
              "MSSubClass    0\n",
              "MSZoning      0\n",
              "dtype: int64"
            ]
          },
          "metadata": {
            "tags": []
          },
          "execution_count": 234
        }
      ]
    },
    {
      "cell_type": "code",
      "metadata": {
        "id": "PjaA5kK5llJI"
      },
      "source": [
        "Nm = [\"MSSubClass\",\"MoSold\",\"YrSold\"]\n",
        "for col in Nm:\n",
        "    df[col] = df[col].astype(str)"
      ],
      "execution_count": 235,
      "outputs": []
    },
    {
      "cell_type": "code",
      "metadata": {
        "id": "3YS68eAkl3ol"
      },
      "source": [
        "# LABEL ENCODING\n",
        "lbe = LabelEncoder()\n",
        "encodecolumns = (\"FireplaceQu\",\"BsmtQual\",\"BsmtCond\",\"ExterQual\",\"ExterCond\",\"HeatingQC\",\"GarageQual\",\n",
        "                \"GarageCond\",\"PoolQC\",\"KitchenQual\",\"BsmtFinType1\",\"BsmtFinType2\",\"Functional\",\"Fence\",\n",
        "                \"BsmtExposure\",\"GarageFinish\",\"LandSlope\",\"LotShape\",\"PavedDrive\",\"Street\",\"Alley\",\n",
        "                \"CentralAir\",\"MSSubClass\",\"OverallCond\",\"YrSold\",\"MoSold\")\n",
        "for i in encodecolumns :\n",
        "    lbe.fit(list(df[i].values))\n",
        "    df[i] = lbe.transform(list(df[i].values))"
      ],
      "execution_count": 236,
      "outputs": []
    },
    {
      "cell_type": "code",
      "metadata": {
        "colab": {
          "base_uri": "https://localhost:8080/",
          "height": 251
        },
        "id": "42Z3FHYRmvI3",
        "outputId": "a2680096-0d0f-4381-8f52-962e31b6a54e"
      },
      "source": [
        "df = pd.get_dummies(df)\n",
        "df.head()"
      ],
      "execution_count": 237,
      "outputs": [
        {
          "output_type": "execute_result",
          "data": {
            "text/html": [
              "<div>\n",
              "<style scoped>\n",
              "    .dataframe tbody tr th:only-of-type {\n",
              "        vertical-align: middle;\n",
              "    }\n",
              "\n",
              "    .dataframe tbody tr th {\n",
              "        vertical-align: top;\n",
              "    }\n",
              "\n",
              "    .dataframe thead th {\n",
              "        text-align: right;\n",
              "    }\n",
              "</style>\n",
              "<table border=\"1\" class=\"dataframe\">\n",
              "  <thead>\n",
              "    <tr style=\"text-align: right;\">\n",
              "      <th></th>\n",
              "      <th>Id</th>\n",
              "      <th>MSSubClass</th>\n",
              "      <th>LotFrontage</th>\n",
              "      <th>LotArea</th>\n",
              "      <th>Street</th>\n",
              "      <th>Alley</th>\n",
              "      <th>LotShape</th>\n",
              "      <th>LandSlope</th>\n",
              "      <th>OverallQual</th>\n",
              "      <th>OverallCond</th>\n",
              "      <th>YearBuilt</th>\n",
              "      <th>YearRemodAdd</th>\n",
              "      <th>MasVnrArea</th>\n",
              "      <th>ExterQual</th>\n",
              "      <th>ExterCond</th>\n",
              "      <th>BsmtQual</th>\n",
              "      <th>BsmtCond</th>\n",
              "      <th>BsmtExposure</th>\n",
              "      <th>BsmtFinType1</th>\n",
              "      <th>BsmtFinSF1</th>\n",
              "      <th>BsmtFinType2</th>\n",
              "      <th>BsmtFinSF2</th>\n",
              "      <th>BsmtUnfSF</th>\n",
              "      <th>TotalBsmtSF</th>\n",
              "      <th>HeatingQC</th>\n",
              "      <th>CentralAir</th>\n",
              "      <th>1stFlrSF</th>\n",
              "      <th>2ndFlrSF</th>\n",
              "      <th>LowQualFinSF</th>\n",
              "      <th>GrLivArea</th>\n",
              "      <th>BsmtFullBath</th>\n",
              "      <th>BsmtHalfBath</th>\n",
              "      <th>FullBath</th>\n",
              "      <th>HalfBath</th>\n",
              "      <th>BedroomAbvGr</th>\n",
              "      <th>KitchenAbvGr</th>\n",
              "      <th>KitchenQual</th>\n",
              "      <th>TotRmsAbvGrd</th>\n",
              "      <th>Functional</th>\n",
              "      <th>Fireplaces</th>\n",
              "      <th>...</th>\n",
              "      <th>Foundation_Stone</th>\n",
              "      <th>Foundation_Wood</th>\n",
              "      <th>Heating_Floor</th>\n",
              "      <th>Heating_GasA</th>\n",
              "      <th>Heating_GasW</th>\n",
              "      <th>Heating_Grav</th>\n",
              "      <th>Heating_OthW</th>\n",
              "      <th>Heating_Wall</th>\n",
              "      <th>Electrical_FuseA</th>\n",
              "      <th>Electrical_FuseF</th>\n",
              "      <th>Electrical_FuseP</th>\n",
              "      <th>Electrical_Mix</th>\n",
              "      <th>Electrical_SBrkr</th>\n",
              "      <th>GarageType_2Types</th>\n",
              "      <th>GarageType_Attchd</th>\n",
              "      <th>GarageType_Basment</th>\n",
              "      <th>GarageType_BuiltIn</th>\n",
              "      <th>GarageType_CarPort</th>\n",
              "      <th>GarageType_Detchd</th>\n",
              "      <th>GarageType_None</th>\n",
              "      <th>MiscFeature_Gar2</th>\n",
              "      <th>MiscFeature_None</th>\n",
              "      <th>MiscFeature_Othr</th>\n",
              "      <th>MiscFeature_Shed</th>\n",
              "      <th>MiscFeature_TenC</th>\n",
              "      <th>SaleType_COD</th>\n",
              "      <th>SaleType_CWD</th>\n",
              "      <th>SaleType_Con</th>\n",
              "      <th>SaleType_ConLD</th>\n",
              "      <th>SaleType_ConLI</th>\n",
              "      <th>SaleType_ConLw</th>\n",
              "      <th>SaleType_New</th>\n",
              "      <th>SaleType_Oth</th>\n",
              "      <th>SaleType_WD</th>\n",
              "      <th>SaleCondition_Abnorml</th>\n",
              "      <th>SaleCondition_AdjLand</th>\n",
              "      <th>SaleCondition_Alloca</th>\n",
              "      <th>SaleCondition_Family</th>\n",
              "      <th>SaleCondition_Normal</th>\n",
              "      <th>SaleCondition_Partial</th>\n",
              "    </tr>\n",
              "  </thead>\n",
              "  <tbody>\n",
              "    <tr>\n",
              "      <th>0</th>\n",
              "      <td>1</td>\n",
              "      <td>9</td>\n",
              "      <td>65.0</td>\n",
              "      <td>8450</td>\n",
              "      <td>1</td>\n",
              "      <td>1</td>\n",
              "      <td>3</td>\n",
              "      <td>0</td>\n",
              "      <td>7</td>\n",
              "      <td>4</td>\n",
              "      <td>2003</td>\n",
              "      <td>2003</td>\n",
              "      <td>196.0</td>\n",
              "      <td>2</td>\n",
              "      <td>4</td>\n",
              "      <td>2</td>\n",
              "      <td>4</td>\n",
              "      <td>3</td>\n",
              "      <td>2</td>\n",
              "      <td>706</td>\n",
              "      <td>6</td>\n",
              "      <td>0</td>\n",
              "      <td>150</td>\n",
              "      <td>856</td>\n",
              "      <td>0</td>\n",
              "      <td>1</td>\n",
              "      <td>856</td>\n",
              "      <td>854</td>\n",
              "      <td>0</td>\n",
              "      <td>1710</td>\n",
              "      <td>1</td>\n",
              "      <td>0</td>\n",
              "      <td>2</td>\n",
              "      <td>1</td>\n",
              "      <td>3</td>\n",
              "      <td>1</td>\n",
              "      <td>2</td>\n",
              "      <td>8</td>\n",
              "      <td>6</td>\n",
              "      <td>0</td>\n",
              "      <td>...</td>\n",
              "      <td>0</td>\n",
              "      <td>0</td>\n",
              "      <td>0</td>\n",
              "      <td>1</td>\n",
              "      <td>0</td>\n",
              "      <td>0</td>\n",
              "      <td>0</td>\n",
              "      <td>0</td>\n",
              "      <td>0</td>\n",
              "      <td>0</td>\n",
              "      <td>0</td>\n",
              "      <td>0</td>\n",
              "      <td>1</td>\n",
              "      <td>0</td>\n",
              "      <td>1</td>\n",
              "      <td>0</td>\n",
              "      <td>0</td>\n",
              "      <td>0</td>\n",
              "      <td>0</td>\n",
              "      <td>0</td>\n",
              "      <td>0</td>\n",
              "      <td>1</td>\n",
              "      <td>0</td>\n",
              "      <td>0</td>\n",
              "      <td>0</td>\n",
              "      <td>0</td>\n",
              "      <td>0</td>\n",
              "      <td>0</td>\n",
              "      <td>0</td>\n",
              "      <td>0</td>\n",
              "      <td>0</td>\n",
              "      <td>0</td>\n",
              "      <td>0</td>\n",
              "      <td>1</td>\n",
              "      <td>0</td>\n",
              "      <td>0</td>\n",
              "      <td>0</td>\n",
              "      <td>0</td>\n",
              "      <td>1</td>\n",
              "      <td>0</td>\n",
              "    </tr>\n",
              "    <tr>\n",
              "      <th>1</th>\n",
              "      <td>2</td>\n",
              "      <td>4</td>\n",
              "      <td>80.0</td>\n",
              "      <td>9600</td>\n",
              "      <td>1</td>\n",
              "      <td>1</td>\n",
              "      <td>3</td>\n",
              "      <td>0</td>\n",
              "      <td>6</td>\n",
              "      <td>7</td>\n",
              "      <td>1976</td>\n",
              "      <td>1976</td>\n",
              "      <td>0.0</td>\n",
              "      <td>3</td>\n",
              "      <td>4</td>\n",
              "      <td>2</td>\n",
              "      <td>4</td>\n",
              "      <td>1</td>\n",
              "      <td>0</td>\n",
              "      <td>978</td>\n",
              "      <td>6</td>\n",
              "      <td>0</td>\n",
              "      <td>284</td>\n",
              "      <td>1262</td>\n",
              "      <td>0</td>\n",
              "      <td>1</td>\n",
              "      <td>1262</td>\n",
              "      <td>0</td>\n",
              "      <td>0</td>\n",
              "      <td>1262</td>\n",
              "      <td>0</td>\n",
              "      <td>1</td>\n",
              "      <td>2</td>\n",
              "      <td>0</td>\n",
              "      <td>3</td>\n",
              "      <td>1</td>\n",
              "      <td>3</td>\n",
              "      <td>6</td>\n",
              "      <td>6</td>\n",
              "      <td>1</td>\n",
              "      <td>...</td>\n",
              "      <td>0</td>\n",
              "      <td>0</td>\n",
              "      <td>0</td>\n",
              "      <td>1</td>\n",
              "      <td>0</td>\n",
              "      <td>0</td>\n",
              "      <td>0</td>\n",
              "      <td>0</td>\n",
              "      <td>0</td>\n",
              "      <td>0</td>\n",
              "      <td>0</td>\n",
              "      <td>0</td>\n",
              "      <td>1</td>\n",
              "      <td>0</td>\n",
              "      <td>1</td>\n",
              "      <td>0</td>\n",
              "      <td>0</td>\n",
              "      <td>0</td>\n",
              "      <td>0</td>\n",
              "      <td>0</td>\n",
              "      <td>0</td>\n",
              "      <td>1</td>\n",
              "      <td>0</td>\n",
              "      <td>0</td>\n",
              "      <td>0</td>\n",
              "      <td>0</td>\n",
              "      <td>0</td>\n",
              "      <td>0</td>\n",
              "      <td>0</td>\n",
              "      <td>0</td>\n",
              "      <td>0</td>\n",
              "      <td>0</td>\n",
              "      <td>0</td>\n",
              "      <td>1</td>\n",
              "      <td>0</td>\n",
              "      <td>0</td>\n",
              "      <td>0</td>\n",
              "      <td>0</td>\n",
              "      <td>1</td>\n",
              "      <td>0</td>\n",
              "    </tr>\n",
              "    <tr>\n",
              "      <th>2</th>\n",
              "      <td>3</td>\n",
              "      <td>9</td>\n",
              "      <td>68.0</td>\n",
              "      <td>11250</td>\n",
              "      <td>1</td>\n",
              "      <td>1</td>\n",
              "      <td>0</td>\n",
              "      <td>0</td>\n",
              "      <td>7</td>\n",
              "      <td>4</td>\n",
              "      <td>2001</td>\n",
              "      <td>2002</td>\n",
              "      <td>162.0</td>\n",
              "      <td>2</td>\n",
              "      <td>4</td>\n",
              "      <td>2</td>\n",
              "      <td>4</td>\n",
              "      <td>2</td>\n",
              "      <td>2</td>\n",
              "      <td>486</td>\n",
              "      <td>6</td>\n",
              "      <td>0</td>\n",
              "      <td>434</td>\n",
              "      <td>920</td>\n",
              "      <td>0</td>\n",
              "      <td>1</td>\n",
              "      <td>920</td>\n",
              "      <td>866</td>\n",
              "      <td>0</td>\n",
              "      <td>1786</td>\n",
              "      <td>1</td>\n",
              "      <td>0</td>\n",
              "      <td>2</td>\n",
              "      <td>1</td>\n",
              "      <td>3</td>\n",
              "      <td>1</td>\n",
              "      <td>2</td>\n",
              "      <td>6</td>\n",
              "      <td>6</td>\n",
              "      <td>1</td>\n",
              "      <td>...</td>\n",
              "      <td>0</td>\n",
              "      <td>0</td>\n",
              "      <td>0</td>\n",
              "      <td>1</td>\n",
              "      <td>0</td>\n",
              "      <td>0</td>\n",
              "      <td>0</td>\n",
              "      <td>0</td>\n",
              "      <td>0</td>\n",
              "      <td>0</td>\n",
              "      <td>0</td>\n",
              "      <td>0</td>\n",
              "      <td>1</td>\n",
              "      <td>0</td>\n",
              "      <td>1</td>\n",
              "      <td>0</td>\n",
              "      <td>0</td>\n",
              "      <td>0</td>\n",
              "      <td>0</td>\n",
              "      <td>0</td>\n",
              "      <td>0</td>\n",
              "      <td>1</td>\n",
              "      <td>0</td>\n",
              "      <td>0</td>\n",
              "      <td>0</td>\n",
              "      <td>0</td>\n",
              "      <td>0</td>\n",
              "      <td>0</td>\n",
              "      <td>0</td>\n",
              "      <td>0</td>\n",
              "      <td>0</td>\n",
              "      <td>0</td>\n",
              "      <td>0</td>\n",
              "      <td>1</td>\n",
              "      <td>0</td>\n",
              "      <td>0</td>\n",
              "      <td>0</td>\n",
              "      <td>0</td>\n",
              "      <td>1</td>\n",
              "      <td>0</td>\n",
              "    </tr>\n",
              "    <tr>\n",
              "      <th>3</th>\n",
              "      <td>4</td>\n",
              "      <td>10</td>\n",
              "      <td>60.0</td>\n",
              "      <td>9550</td>\n",
              "      <td>1</td>\n",
              "      <td>1</td>\n",
              "      <td>0</td>\n",
              "      <td>0</td>\n",
              "      <td>7</td>\n",
              "      <td>4</td>\n",
              "      <td>1915</td>\n",
              "      <td>1970</td>\n",
              "      <td>0.0</td>\n",
              "      <td>3</td>\n",
              "      <td>4</td>\n",
              "      <td>4</td>\n",
              "      <td>1</td>\n",
              "      <td>3</td>\n",
              "      <td>0</td>\n",
              "      <td>216</td>\n",
              "      <td>6</td>\n",
              "      <td>0</td>\n",
              "      <td>540</td>\n",
              "      <td>756</td>\n",
              "      <td>2</td>\n",
              "      <td>1</td>\n",
              "      <td>961</td>\n",
              "      <td>756</td>\n",
              "      <td>0</td>\n",
              "      <td>1717</td>\n",
              "      <td>1</td>\n",
              "      <td>0</td>\n",
              "      <td>1</td>\n",
              "      <td>0</td>\n",
              "      <td>3</td>\n",
              "      <td>1</td>\n",
              "      <td>2</td>\n",
              "      <td>7</td>\n",
              "      <td>6</td>\n",
              "      <td>1</td>\n",
              "      <td>...</td>\n",
              "      <td>0</td>\n",
              "      <td>0</td>\n",
              "      <td>0</td>\n",
              "      <td>1</td>\n",
              "      <td>0</td>\n",
              "      <td>0</td>\n",
              "      <td>0</td>\n",
              "      <td>0</td>\n",
              "      <td>0</td>\n",
              "      <td>0</td>\n",
              "      <td>0</td>\n",
              "      <td>0</td>\n",
              "      <td>1</td>\n",
              "      <td>0</td>\n",
              "      <td>0</td>\n",
              "      <td>0</td>\n",
              "      <td>0</td>\n",
              "      <td>0</td>\n",
              "      <td>1</td>\n",
              "      <td>0</td>\n",
              "      <td>0</td>\n",
              "      <td>1</td>\n",
              "      <td>0</td>\n",
              "      <td>0</td>\n",
              "      <td>0</td>\n",
              "      <td>0</td>\n",
              "      <td>0</td>\n",
              "      <td>0</td>\n",
              "      <td>0</td>\n",
              "      <td>0</td>\n",
              "      <td>0</td>\n",
              "      <td>0</td>\n",
              "      <td>0</td>\n",
              "      <td>1</td>\n",
              "      <td>1</td>\n",
              "      <td>0</td>\n",
              "      <td>0</td>\n",
              "      <td>0</td>\n",
              "      <td>0</td>\n",
              "      <td>0</td>\n",
              "    </tr>\n",
              "    <tr>\n",
              "      <th>4</th>\n",
              "      <td>5</td>\n",
              "      <td>9</td>\n",
              "      <td>84.0</td>\n",
              "      <td>14260</td>\n",
              "      <td>1</td>\n",
              "      <td>1</td>\n",
              "      <td>0</td>\n",
              "      <td>0</td>\n",
              "      <td>8</td>\n",
              "      <td>4</td>\n",
              "      <td>2000</td>\n",
              "      <td>2000</td>\n",
              "      <td>350.0</td>\n",
              "      <td>2</td>\n",
              "      <td>4</td>\n",
              "      <td>2</td>\n",
              "      <td>4</td>\n",
              "      <td>0</td>\n",
              "      <td>2</td>\n",
              "      <td>655</td>\n",
              "      <td>6</td>\n",
              "      <td>0</td>\n",
              "      <td>490</td>\n",
              "      <td>1145</td>\n",
              "      <td>0</td>\n",
              "      <td>1</td>\n",
              "      <td>1145</td>\n",
              "      <td>1053</td>\n",
              "      <td>0</td>\n",
              "      <td>2198</td>\n",
              "      <td>1</td>\n",
              "      <td>0</td>\n",
              "      <td>2</td>\n",
              "      <td>1</td>\n",
              "      <td>4</td>\n",
              "      <td>1</td>\n",
              "      <td>2</td>\n",
              "      <td>9</td>\n",
              "      <td>6</td>\n",
              "      <td>1</td>\n",
              "      <td>...</td>\n",
              "      <td>0</td>\n",
              "      <td>0</td>\n",
              "      <td>0</td>\n",
              "      <td>1</td>\n",
              "      <td>0</td>\n",
              "      <td>0</td>\n",
              "      <td>0</td>\n",
              "      <td>0</td>\n",
              "      <td>0</td>\n",
              "      <td>0</td>\n",
              "      <td>0</td>\n",
              "      <td>0</td>\n",
              "      <td>1</td>\n",
              "      <td>0</td>\n",
              "      <td>1</td>\n",
              "      <td>0</td>\n",
              "      <td>0</td>\n",
              "      <td>0</td>\n",
              "      <td>0</td>\n",
              "      <td>0</td>\n",
              "      <td>0</td>\n",
              "      <td>1</td>\n",
              "      <td>0</td>\n",
              "      <td>0</td>\n",
              "      <td>0</td>\n",
              "      <td>0</td>\n",
              "      <td>0</td>\n",
              "      <td>0</td>\n",
              "      <td>0</td>\n",
              "      <td>0</td>\n",
              "      <td>0</td>\n",
              "      <td>0</td>\n",
              "      <td>0</td>\n",
              "      <td>1</td>\n",
              "      <td>0</td>\n",
              "      <td>0</td>\n",
              "      <td>0</td>\n",
              "      <td>0</td>\n",
              "      <td>1</td>\n",
              "      <td>0</td>\n",
              "    </tr>\n",
              "  </tbody>\n",
              "</table>\n",
              "<p>5 rows × 223 columns</p>\n",
              "</div>"
            ],
            "text/plain": [
              "   Id  MSSubClass  ...  SaleCondition_Normal  SaleCondition_Partial\n",
              "0   1           9  ...                     1                      0\n",
              "1   2           4  ...                     1                      0\n",
              "2   3           9  ...                     1                      0\n",
              "3   4          10  ...                     0                      0\n",
              "4   5           9  ...                     1                      0\n",
              "\n",
              "[5 rows x 223 columns]"
            ]
          },
          "metadata": {
            "tags": []
          },
          "execution_count": 237
        }
      ]
    },
    {
      "cell_type": "code",
      "metadata": {
        "id": "4WgBdxDEhUHQ"
      },
      "source": [
        "X = df.drop(axis=1,columns=['SalePrice']).values\n",
        "y = df.SalePrice.values\n",
        "\n",
        "X_train, X_test, y_train, y_test = train_test_split(X, y, test_size=0.3, random_state=42)"
      ],
      "execution_count": 238,
      "outputs": []
    },
    {
      "cell_type": "markdown",
      "metadata": {
        "id": "4Er2idCioMel"
      },
      "source": [
        "## GridSearchCV\n"
      ]
    },
    {
      "cell_type": "markdown",
      "metadata": {
        "id": "ojFkXKf5oMel"
      },
      "source": [
        "### XGBoost"
      ]
    },
    {
      "cell_type": "code",
      "metadata": {
        "colab": {
          "base_uri": "https://localhost:8080/"
        },
        "id": "W1vAyofBoMem",
        "outputId": "e7374ad8-098a-4bdf-e9ae-eeea7b1c432c"
      },
      "source": [
        "xgb_model = xgb.XGBRegressor(nthread = 4, objective='reg:squarederror')\n",
        "param_grid = dict(\n",
        "    max_depth = [4, 5, 6, 7],\n",
        "    learning_rate = [0.1, 0.01, 0.05],\n",
        "    n_estimators = [100, 200],\n",
        "    gamma = [0, 1, 10],\n",
        "    colsample_bytree = [0.1, 0.5, 1]\n",
        ")\n",
        "grid = GridSearchCV(xgb_model, param_grid, verbose=True, scoring='neg_mean_squared_log_error')\n",
        "grid.fit(X_train, y_train)\n",
        "\n",
        "print(end='')"
      ],
      "execution_count": 157,
      "outputs": [
        {
          "output_type": "stream",
          "text": [
            "Fitting 5 folds for each of 216 candidates, totalling 1080 fits\n"
          ],
          "name": "stdout"
        },
        {
          "output_type": "stream",
          "text": [
            "[Parallel(n_jobs=1)]: Using backend SequentialBackend with 1 concurrent workers.\n",
            "[Parallel(n_jobs=1)]: Done 1080 out of 1080 | elapsed: 12.7min finished\n"
          ],
          "name": "stderr"
        }
      ]
    },
    {
      "cell_type": "code",
      "metadata": {
        "colab": {
          "base_uri": "https://localhost:8080/"
        },
        "id": "dDhLEoaooMem",
        "outputId": "6d5067d2-6436-4be3-9526-9f24a660bf9d"
      },
      "source": [
        "print(grid.best_params_)\n",
        "print(np.sqrt(-grid.best_score_))"
      ],
      "execution_count": 160,
      "outputs": [
        {
          "output_type": "stream",
          "text": [
            "{'colsample_bytree': 0.5, 'gamma': 0, 'learning_rate': 0.1, 'max_depth': 4, 'n_estimators': 200}\n",
            "0.13303655598121691\n"
          ],
          "name": "stdout"
        }
      ]
    },
    {
      "cell_type": "code",
      "metadata": {
        "colab": {
          "base_uri": "https://localhost:8080/"
        },
        "id": "M6jkwCYQoMem",
        "outputId": "783f7e6d-de2e-41e1-ef6f-926c083f6345"
      },
      "source": [
        "print('Best RMSLE Score: {}'.format(np.sqrt(-grid.best_score_)))\n",
        "print('Test RMSLE: {}'.format(np.sqrt(mean_squared_log_error(y_test, grid.predict(X_test)))))\n",
        "print('Train RMSLE: {}'.format(np.sqrt(mean_squared_log_error(y_train, grid.predict(X_train)))))"
      ],
      "execution_count": 161,
      "outputs": [
        {
          "output_type": "stream",
          "text": [
            "Best RMSLE Score: 0.13303655598121691\n",
            "Test RMSLE: 0.11923533348028849\n",
            "Train RMSLE: 0.04949153954439591\n"
          ],
          "name": "stdout"
        }
      ]
    },
    {
      "cell_type": "code",
      "metadata": {
        "colab": {
          "base_uri": "https://localhost:8080/"
        },
        "id": "ze5TV7cux2Dx",
        "outputId": "0dc617dd-16b4-41f6-cdff-ab84949a111f"
      },
      "source": [
        "%time\n",
        "xgb_model = xgb.XGBRegressor(nthread = 4, objective='reg:squarederror', colsample_bytree = 0.5, gamma = 0, learning_rate = 0.1, max_depth = 4, n_estimators = 200)\n",
        "xgb_model.fit(X_train, y_train)\n",
        "print()"
      ],
      "execution_count": 239,
      "outputs": [
        {
          "output_type": "stream",
          "text": [
            "CPU times: user 3 µs, sys: 1e+03 ns, total: 4 µs\n",
            "Wall time: 7.15 µs\n",
            "\n"
          ],
          "name": "stdout"
        }
      ]
    },
    {
      "cell_type": "code",
      "metadata": {
        "colab": {
          "base_uri": "https://localhost:8080/"
        },
        "id": "xmG2t55Qx2Dy",
        "outputId": "ab4178db-2b69-4c7c-e3dc-29d2da6ef52f"
      },
      "source": [
        "%time\n",
        "xgb_model.predict(X_test)\n",
        "print()"
      ],
      "execution_count": 240,
      "outputs": [
        {
          "output_type": "stream",
          "text": [
            "CPU times: user 3 µs, sys: 1e+03 ns, total: 4 µs\n",
            "Wall time: 6.68 µs\n",
            "\n"
          ],
          "name": "stdout"
        }
      ]
    },
    {
      "cell_type": "markdown",
      "metadata": {
        "id": "SWihcUndoMem"
      },
      "source": [
        "### CatBoost"
      ]
    },
    {
      "cell_type": "code",
      "metadata": {
        "colab": {
          "base_uri": "https://localhost:8080/"
        },
        "id": "9tfyzBoKoMem",
        "outputId": "03c00e76-b2a2-4127-f74b-c92bff817d3f"
      },
      "source": [
        "catboost_model = ctb.CatBoostRegressor()\n",
        "param_grid = dict(\n",
        "    depth = [4, 5, 6, 7],\n",
        "    learning_rate = [0.1, 0.01, 0.05],\n",
        "    n_estimators = [100, 200],\n",
        "    logging_level = ['Silent']\n",
        ")\n",
        "grid = GridSearchCV(catboost_model, param_grid, verbose=True, scoring='neg_mean_squared_log_error')\n",
        "grid.fit(X_train, y_train)\n",
        "\n",
        "print(end='')"
      ],
      "execution_count": 162,
      "outputs": [
        {
          "output_type": "stream",
          "text": [
            "Fitting 5 folds for each of 24 candidates, totalling 120 fits\n"
          ],
          "name": "stdout"
        },
        {
          "output_type": "stream",
          "text": [
            "[Parallel(n_jobs=1)]: Using backend SequentialBackend with 1 concurrent workers.\n",
            "[Parallel(n_jobs=1)]: Done 120 out of 120 | elapsed:  1.9min finished\n"
          ],
          "name": "stderr"
        }
      ]
    },
    {
      "cell_type": "code",
      "metadata": {
        "colab": {
          "base_uri": "https://localhost:8080/"
        },
        "id": "thV0cKNToMem",
        "outputId": "bf27a1ea-42a4-4a0c-b00e-ab5a4a31d4c4"
      },
      "source": [
        "print(grid.best_params_)\n",
        "print(np.sqrt(-grid.best_score_))"
      ],
      "execution_count": 163,
      "outputs": [
        {
          "output_type": "stream",
          "text": [
            "{'depth': 5, 'learning_rate': 0.1, 'logging_level': 'Silent', 'n_estimators': 200}\n",
            "0.13009131780597433\n"
          ],
          "name": "stdout"
        }
      ]
    },
    {
      "cell_type": "code",
      "metadata": {
        "colab": {
          "base_uri": "https://localhost:8080/"
        },
        "id": "TKZ4Dc2coMen",
        "outputId": "cc1766f5-1766-41d2-d007-ce1612134294"
      },
      "source": [
        "print('Best RMSLE Score: {}'.format(np.sqrt(-grid.best_score_)))\n",
        "print('Test RMSLE: {}'.format(np.sqrt(mean_squared_log_error(y_test, grid.predict(X_test)))))\n",
        "print('Train RMSLE: {}'.format(np.sqrt(mean_squared_log_error(y_train, grid.predict(X_train)))))"
      ],
      "execution_count": 164,
      "outputs": [
        {
          "output_type": "stream",
          "text": [
            "Best RMSLE Score: 0.13009131780597433\n",
            "Test RMSLE: 0.11563716787776686\n",
            "Train RMSLE: 0.07826305948392215\n"
          ],
          "name": "stdout"
        }
      ]
    },
    {
      "cell_type": "markdown",
      "metadata": {
        "id": "W30TXLKCoMen"
      },
      "source": [
        "### LightGBM"
      ]
    },
    {
      "cell_type": "code",
      "metadata": {
        "colab": {
          "base_uri": "https://localhost:8080/"
        },
        "id": "7PRX0S2EoMen",
        "outputId": "1820358f-14f5-44fd-f724-7f7ae1e01008"
      },
      "source": [
        "lightgbm_model = lgb.LGBMRegressor()\n",
        "param_grid = dict(\n",
        "    num_leaves = [4, 5, 7, 15],\n",
        "    learning_rate = [0.1, 0.01, 0.05],\n",
        "    n_estimators = [100, 200],\n",
        "    logging_level = ['Silent'],\n",
        "    max_depth = [4, 5, 6, 7, -1]\n",
        ")\n",
        "grid = GridSearchCV(lightgbm_model, param_grid, verbose=True, scoring='neg_mean_squared_log_error')\n",
        "grid.fit(X_train, y_train)\n",
        "\n",
        "print(end='')"
      ],
      "execution_count": 165,
      "outputs": [
        {
          "output_type": "stream",
          "text": [
            "Fitting 5 folds for each of 120 candidates, totalling 600 fits\n"
          ],
          "name": "stdout"
        },
        {
          "output_type": "stream",
          "text": [
            "[Parallel(n_jobs=1)]: Using backend SequentialBackend with 1 concurrent workers.\n",
            "[Parallel(n_jobs=1)]: Done 600 out of 600 | elapsed:  2.7min finished\n"
          ],
          "name": "stderr"
        }
      ]
    },
    {
      "cell_type": "code",
      "metadata": {
        "colab": {
          "base_uri": "https://localhost:8080/"
        },
        "id": "XB8mHnBOoMen",
        "outputId": "f0329f13-d42e-4fde-a640-3d42851f04ab"
      },
      "source": [
        "print(grid.best_params_)\n",
        "print(np.sqrt(-grid.best_score_))"
      ],
      "execution_count": 166,
      "outputs": [
        {
          "output_type": "stream",
          "text": [
            "{'learning_rate': 0.1, 'logging_level': 'Silent', 'max_depth': 4, 'n_estimators': 200, 'num_leaves': 5}\n",
            "0.1312329859748449\n"
          ],
          "name": "stdout"
        }
      ]
    },
    {
      "cell_type": "code",
      "metadata": {
        "colab": {
          "base_uri": "https://localhost:8080/"
        },
        "id": "GHj95wPAoMen",
        "outputId": "d46e522f-f7f0-42f5-a422-1c02b35bff5e"
      },
      "source": [
        "print('Best RMSLE Score: {}'.format(np.sqrt(-grid.best_score_)))\n",
        "print('Test RMSLE: {}'.format(np.sqrt(mean_squared_log_error(y_test, grid.predict(X_test)))))\n",
        "print('Train RMSLE: {}'.format(np.sqrt(mean_squared_log_error(y_train, grid.predict(X_train)))))"
      ],
      "execution_count": 167,
      "outputs": [
        {
          "output_type": "stream",
          "text": [
            "Best RMSLE Score: 0.1312329859748449\n",
            "Test RMSLE: 0.11805369003382228\n",
            "Train RMSLE: 0.08989717451374557\n"
          ],
          "name": "stdout"
        }
      ]
    },
    {
      "cell_type": "markdown",
      "metadata": {
        "id": "hKTibDhsoMen"
      },
      "source": [
        "##Вывод"
      ]
    },
    {
      "cell_type": "markdown",
      "metadata": {
        "id": "vAUjkKnv_xn9"
      },
      "source": [
        "Результаты:\n",
        "\n",
        "| House Prices | XGBoost | CatBoost | LightGBM |\n",
        "| --- | --- | --- | --- |\n",
        "| Best Parameters| 'colsample_bytree': 0.5,  <br /> 'gamma': 0,  <br />'learning_rate': 0.1,  <br /> 'max_depth': 4,  <br /> 'n_estimators': 200 | 'depth': 5, <br />'learning_rate': 0.1, <br /> 'n_estimators': 200 |  'learning_rate': 0.1,  <br /> 'max_depth': 4,  <br /> 'n_estimators': 200,  <br />'num_leaves': 5 |\n",
        "| Train RMSLE    | 0.0494916 | 0.0782630 | 0.0898972  |\n",
        "| Test RMSLE     | 0.1192353 | 0.1156372 | 0.1180537  |\n",
        "| Parameter <br /> Tuning Time      | 12.7min <br /> (1080 iter) | 1.9min <br /> (120 iter) |  2.7min <br /> (600 iter)  |"
      ]
    },
    {
      "cell_type": "markdown",
      "metadata": {
        "id": "n-veKAdJobrW"
      },
      "source": [
        "# Water Quality (Задача бинарной классификации)"
      ]
    },
    {
      "cell_type": "markdown",
      "metadata": {
        "id": "fMOyGZCSobrW"
      },
      "source": [
        "## Готовим датасет\n"
      ]
    },
    {
      "cell_type": "code",
      "metadata": {
        "colab": {
          "base_uri": "https://localhost:8080/",
          "height": 222
        },
        "id": "2h1o8NhNobrX",
        "outputId": "e12d9024-0265-4ff8-d6ac-f6ab76491ab5"
      },
      "source": [
        "df = pd.read_csv('water_potability.csv')\n",
        "df.head()"
      ],
      "execution_count": 241,
      "outputs": [
        {
          "output_type": "execute_result",
          "data": {
            "text/html": [
              "<div>\n",
              "<style scoped>\n",
              "    .dataframe tbody tr th:only-of-type {\n",
              "        vertical-align: middle;\n",
              "    }\n",
              "\n",
              "    .dataframe tbody tr th {\n",
              "        vertical-align: top;\n",
              "    }\n",
              "\n",
              "    .dataframe thead th {\n",
              "        text-align: right;\n",
              "    }\n",
              "</style>\n",
              "<table border=\"1\" class=\"dataframe\">\n",
              "  <thead>\n",
              "    <tr style=\"text-align: right;\">\n",
              "      <th></th>\n",
              "      <th>ph</th>\n",
              "      <th>Hardness</th>\n",
              "      <th>Solids</th>\n",
              "      <th>Chloramines</th>\n",
              "      <th>Sulfate</th>\n",
              "      <th>Conductivity</th>\n",
              "      <th>Organic_carbon</th>\n",
              "      <th>Trihalomethanes</th>\n",
              "      <th>Turbidity</th>\n",
              "      <th>Potability</th>\n",
              "    </tr>\n",
              "  </thead>\n",
              "  <tbody>\n",
              "    <tr>\n",
              "      <th>0</th>\n",
              "      <td>NaN</td>\n",
              "      <td>204.890455</td>\n",
              "      <td>20791.318981</td>\n",
              "      <td>7.300212</td>\n",
              "      <td>368.516441</td>\n",
              "      <td>564.308654</td>\n",
              "      <td>10.379783</td>\n",
              "      <td>86.990970</td>\n",
              "      <td>2.963135</td>\n",
              "      <td>0</td>\n",
              "    </tr>\n",
              "    <tr>\n",
              "      <th>1</th>\n",
              "      <td>3.716080</td>\n",
              "      <td>129.422921</td>\n",
              "      <td>18630.057858</td>\n",
              "      <td>6.635246</td>\n",
              "      <td>NaN</td>\n",
              "      <td>592.885359</td>\n",
              "      <td>15.180013</td>\n",
              "      <td>56.329076</td>\n",
              "      <td>4.500656</td>\n",
              "      <td>0</td>\n",
              "    </tr>\n",
              "    <tr>\n",
              "      <th>2</th>\n",
              "      <td>8.099124</td>\n",
              "      <td>224.236259</td>\n",
              "      <td>19909.541732</td>\n",
              "      <td>9.275884</td>\n",
              "      <td>NaN</td>\n",
              "      <td>418.606213</td>\n",
              "      <td>16.868637</td>\n",
              "      <td>66.420093</td>\n",
              "      <td>3.055934</td>\n",
              "      <td>0</td>\n",
              "    </tr>\n",
              "    <tr>\n",
              "      <th>3</th>\n",
              "      <td>8.316766</td>\n",
              "      <td>214.373394</td>\n",
              "      <td>22018.417441</td>\n",
              "      <td>8.059332</td>\n",
              "      <td>356.886136</td>\n",
              "      <td>363.266516</td>\n",
              "      <td>18.436524</td>\n",
              "      <td>100.341674</td>\n",
              "      <td>4.628771</td>\n",
              "      <td>0</td>\n",
              "    </tr>\n",
              "    <tr>\n",
              "      <th>4</th>\n",
              "      <td>9.092223</td>\n",
              "      <td>181.101509</td>\n",
              "      <td>17978.986339</td>\n",
              "      <td>6.546600</td>\n",
              "      <td>310.135738</td>\n",
              "      <td>398.410813</td>\n",
              "      <td>11.558279</td>\n",
              "      <td>31.997993</td>\n",
              "      <td>4.075075</td>\n",
              "      <td>0</td>\n",
              "    </tr>\n",
              "  </tbody>\n",
              "</table>\n",
              "</div>"
            ],
            "text/plain": [
              "         ph    Hardness        Solids  ...  Trihalomethanes  Turbidity  Potability\n",
              "0       NaN  204.890455  20791.318981  ...        86.990970   2.963135           0\n",
              "1  3.716080  129.422921  18630.057858  ...        56.329076   4.500656           0\n",
              "2  8.099124  224.236259  19909.541732  ...        66.420093   3.055934           0\n",
              "3  8.316766  214.373394  22018.417441  ...       100.341674   4.628771           0\n",
              "4  9.092223  181.101509  17978.986339  ...        31.997993   4.075075           0\n",
              "\n",
              "[5 rows x 10 columns]"
            ]
          },
          "metadata": {
            "tags": []
          },
          "execution_count": 241
        }
      ]
    },
    {
      "cell_type": "code",
      "metadata": {
        "colab": {
          "base_uri": "https://localhost:8080/"
        },
        "id": "CIgTIjS2vrmx",
        "outputId": "f5b69fd0-179d-4f01-d924-d9528270d066"
      },
      "source": [
        "df.isna().sum()"
      ],
      "execution_count": 242,
      "outputs": [
        {
          "output_type": "execute_result",
          "data": {
            "text/plain": [
              "ph                 491\n",
              "Hardness             0\n",
              "Solids               0\n",
              "Chloramines          0\n",
              "Sulfate            781\n",
              "Conductivity         0\n",
              "Organic_carbon       0\n",
              "Trihalomethanes    162\n",
              "Turbidity            0\n",
              "Potability           0\n",
              "dtype: int64"
            ]
          },
          "metadata": {
            "tags": []
          },
          "execution_count": 242
        }
      ]
    },
    {
      "cell_type": "code",
      "metadata": {
        "id": "ObCuZjqwv98M"
      },
      "source": [
        "df = df.fillna(df.mean()) # Заменим все NaN средним значением"
      ],
      "execution_count": 243,
      "outputs": []
    },
    {
      "cell_type": "code",
      "metadata": {
        "colab": {
          "base_uri": "https://localhost:8080/"
        },
        "id": "6v0VaKO1wEsp",
        "outputId": "715b5594-ca29-4f93-d443-65ea3cc1df49"
      },
      "source": [
        "df.isna().sum().sum() # Избавились от всех NaN-ов"
      ],
      "execution_count": 244,
      "outputs": [
        {
          "output_type": "execute_result",
          "data": {
            "text/plain": [
              "0"
            ]
          },
          "metadata": {
            "tags": []
          },
          "execution_count": 244
        }
      ]
    },
    {
      "cell_type": "code",
      "metadata": {
        "id": "JSwMSw9DvnrB"
      },
      "source": [
        "X = df.drop(axis=1, columns=['Potability']).values\n",
        "y = df.Potability.values\n",
        "\n",
        "X_train, X_test, y_train, y_test = train_test_split(X, y, test_size=0.3, random_state=42)"
      ],
      "execution_count": 245,
      "outputs": []
    },
    {
      "cell_type": "markdown",
      "metadata": {
        "id": "YG6ABeAXobrY"
      },
      "source": [
        "## GridSearchCV\n"
      ]
    },
    {
      "cell_type": "markdown",
      "metadata": {
        "id": "iL6S6rzvobrY"
      },
      "source": [
        "### XGBoost"
      ]
    },
    {
      "cell_type": "code",
      "metadata": {
        "colab": {
          "base_uri": "https://localhost:8080/"
        },
        "id": "A7A2sT-awrk1",
        "outputId": "64275770-f3a7-4954-89a2-cbda26a41427"
      },
      "source": [
        "xgb_model = xgb.XGBRegressor(nthread = 4, objective='binary:logistic')\n",
        "param_grid = dict(\n",
        "    max_depth = [4, 5, 6, 7],\n",
        "    learning_rate = [0.1, 0.01, 0.05],\n",
        "    n_estimators = [100, 200],\n",
        "    gamma = [0, 1, 10],\n",
        "    colsample_bytree = [0.1, 0.5, 1]\n",
        ")\n",
        "grid = GridSearchCV(xgb_model, param_grid, verbose=True, scoring='roc_auc')\n",
        "grid.fit(X_train, y_train)\n",
        "\n",
        "print(end='')"
      ],
      "execution_count": 183,
      "outputs": [
        {
          "output_type": "stream",
          "text": [
            "Fitting 5 folds for each of 216 candidates, totalling 1080 fits\n"
          ],
          "name": "stdout"
        },
        {
          "output_type": "stream",
          "text": [
            "[Parallel(n_jobs=1)]: Using backend SequentialBackend with 1 concurrent workers.\n",
            "[Parallel(n_jobs=1)]: Done 1080 out of 1080 | elapsed:  6.3min finished\n"
          ],
          "name": "stderr"
        }
      ]
    },
    {
      "cell_type": "code",
      "metadata": {
        "colab": {
          "base_uri": "https://localhost:8080/"
        },
        "id": "0KaN7Y-cwrk2",
        "outputId": "4c434475-fa60-4940-8915-536378fba513"
      },
      "source": [
        "print(grid.best_params_)\n",
        "print(grid.best_score_)"
      ],
      "execution_count": 184,
      "outputs": [
        {
          "output_type": "stream",
          "text": [
            "{'colsample_bytree': 1, 'gamma': 0, 'learning_rate': 0.01, 'max_depth': 7, 'n_estimators': 200}\n",
            "0.649405852506617\n"
          ],
          "name": "stdout"
        }
      ]
    },
    {
      "cell_type": "code",
      "metadata": {
        "colab": {
          "base_uri": "https://localhost:8080/"
        },
        "id": "VCxm438Zwrk2",
        "outputId": "127a5d4f-8104-4c41-d133-75bb7d5a9b34"
      },
      "source": [
        "print('Best Score: {}'.format(grid.best_score_))\n",
        "print('Test ROC_AUC: {}'.format(roc_auc_score(y_test, grid.predict(X_test))))\n",
        "print('Train ROC_AUC: {}'.format(roc_auc_score(y_train, grid.predict(X_train))))"
      ],
      "execution_count": 185,
      "outputs": [
        {
          "output_type": "stream",
          "text": [
            "Best Score: 0.649405852506617\n",
            "Test ROC_AUC: 0.678191230261002\n",
            "Train ROC_AUC: 0.910857089319969\n"
          ],
          "name": "stdout"
        }
      ]
    },
    {
      "cell_type": "code",
      "metadata": {
        "colab": {
          "base_uri": "https://localhost:8080/"
        },
        "id": "LnoI0EzOwrk3",
        "outputId": "0d6e2d5c-2e85-408c-9b69-8630d57a4df7"
      },
      "source": [
        "print('Test balanced accuracy: {}'.format(balanced_accuracy_score(y_test, (grid.predict(X_test)>0.5)*1)))\n",
        "print('Train balanced accuracy: {}'.format(balanced_accuracy_score(y_train, (grid.predict(X_train)>0.5)*1)))"
      ],
      "execution_count": 186,
      "outputs": [
        {
          "output_type": "stream",
          "text": [
            "Test balanced accuracy: 0.5790290582848439\n",
            "Train balanced accuracy: 0.7260943474725917\n"
          ],
          "name": "stdout"
        }
      ]
    },
    {
      "cell_type": "code",
      "metadata": {
        "colab": {
          "base_uri": "https://localhost:8080/"
        },
        "id": "TiOrD07FyNaY",
        "outputId": "8c1960e9-1199-4d1e-a451-b0923ebbf546"
      },
      "source": [
        "%time\n",
        "xgb_model = xgb.XGBRegressor(nthread = 4, objective='binary:logistic', colsample_bytree = 1, gamma = 0, learning_rate = 0.01, max_depth = 7, n_estimators = 200)\n",
        "xgb_model.fit(X_train, y_train)\n",
        "print()"
      ],
      "execution_count": 246,
      "outputs": [
        {
          "output_type": "stream",
          "text": [
            "CPU times: user 4 µs, sys: 1e+03 ns, total: 5 µs\n",
            "Wall time: 9.78 µs\n",
            "\n"
          ],
          "name": "stdout"
        }
      ]
    },
    {
      "cell_type": "code",
      "metadata": {
        "colab": {
          "base_uri": "https://localhost:8080/"
        },
        "id": "AFiRnqTTyNaZ",
        "outputId": "ec75d6da-170d-4601-8d66-4c7387765898"
      },
      "source": [
        "%time\n",
        "xgb_model.predict(X_test)\n",
        "print()"
      ],
      "execution_count": 247,
      "outputs": [
        {
          "output_type": "stream",
          "text": [
            "CPU times: user 4 µs, sys: 0 ns, total: 4 µs\n",
            "Wall time: 9.06 µs\n",
            "\n"
          ],
          "name": "stdout"
        }
      ]
    },
    {
      "cell_type": "markdown",
      "metadata": {
        "id": "7xTQ_64Oobra"
      },
      "source": [
        "### CatBoost"
      ]
    },
    {
      "cell_type": "code",
      "metadata": {
        "colab": {
          "base_uri": "https://localhost:8080/"
        },
        "id": "i9w6OPyBwv-s",
        "outputId": "97a4e5ef-0220-46bf-e3c6-4eabe957ae69"
      },
      "source": [
        "catboost_model = ctb.CatBoostClassifier(objective='Logloss')\n",
        "param_grid = dict(\n",
        "    depth = [4, 5, 6, 7],\n",
        "    learning_rate = [0.1, 0.01, 0.05],\n",
        "    n_estimators = [100, 200],\n",
        "    logging_level = ['Silent']\n",
        ")\n",
        "grid = GridSearchCV(catboost_model, param_grid, verbose=True, scoring='roc_auc')\n",
        "grid.fit(X_train, y_train)\n",
        "\n",
        "print(end='')"
      ],
      "execution_count": 187,
      "outputs": [
        {
          "output_type": "stream",
          "text": [
            "Fitting 5 folds for each of 24 candidates, totalling 120 fits\n"
          ],
          "name": "stdout"
        },
        {
          "output_type": "stream",
          "text": [
            "[Parallel(n_jobs=1)]: Using backend SequentialBackend with 1 concurrent workers.\n",
            "[Parallel(n_jobs=1)]: Done 120 out of 120 | elapsed:  1.1min finished\n"
          ],
          "name": "stderr"
        }
      ]
    },
    {
      "cell_type": "code",
      "metadata": {
        "colab": {
          "base_uri": "https://localhost:8080/"
        },
        "id": "KqDaiUXmwv-t",
        "outputId": "c76fb959-5284-4c6a-8a8f-fa00407320d2"
      },
      "source": [
        "print(grid.best_params_)\n",
        "print(grid.best_score_)\n",
        "# {'depth': 5, 'learning_rate': 0.05, 'logging_level': 'Silent', 'n_estimators': 100}\n",
        "# 0.9904242083040113"
      ],
      "execution_count": 188,
      "outputs": [
        {
          "output_type": "stream",
          "text": [
            "{'depth': 7, 'learning_rate': 0.01, 'logging_level': 'Silent', 'n_estimators': 200}\n",
            "0.680836365477516\n"
          ],
          "name": "stdout"
        }
      ]
    },
    {
      "cell_type": "code",
      "metadata": {
        "colab": {
          "base_uri": "https://localhost:8080/"
        },
        "id": "DyIycTFTwv-u",
        "outputId": "c9eae1dc-5ca0-4db8-9861-1721b72b360d"
      },
      "source": [
        "print('Best Score: {}'.format(grid.best_score_))\n",
        "print('Test ROC_AUC: {}'.format(roc_auc_score(y_test, grid.predict(X_test))))\n",
        "print('Train ROC_AUC: {}'.format(roc_auc_score(y_train, grid.predict(X_train))))\n",
        "# Best Score: 0.9904242083040113\n",
        "# Test ROC_AUC: 0.9636243386243386\n",
        "# Train ROC_AUC: 1.0"
      ],
      "execution_count": 189,
      "outputs": [
        {
          "output_type": "stream",
          "text": [
            "Best Score: 0.680836365477516\n",
            "Test ROC_AUC: 0.5795139534677756\n",
            "Train ROC_AUC: 0.6661803517664545\n"
          ],
          "name": "stdout"
        }
      ]
    },
    {
      "cell_type": "code",
      "metadata": {
        "colab": {
          "base_uri": "https://localhost:8080/"
        },
        "id": "DYzTQqmgwv-u",
        "outputId": "e22aae42-351e-4246-f891-f58bdca20fd6"
      },
      "source": [
        "print('Test balanced accuracy: {}'.format(balanced_accuracy_score(y_test, (grid.predict(X_test)>0.5)*1)))\n",
        "print('Train balanced accuracy: {}'.format(balanced_accuracy_score(y_train, (grid.predict(X_train)>0.5)*1)))\n",
        "# Test balanced accuracy: 0.9636243386243386\n",
        "# Train balanced accuracy: 1.0"
      ],
      "execution_count": 190,
      "outputs": [
        {
          "output_type": "stream",
          "text": [
            "Test balanced accuracy: 0.5795139534677756\n",
            "Train balanced accuracy: 0.6661803517664545\n"
          ],
          "name": "stdout"
        }
      ]
    },
    {
      "cell_type": "markdown",
      "metadata": {
        "id": "XF_qvLGSobrb"
      },
      "source": [
        "### LightGBM"
      ]
    },
    {
      "cell_type": "code",
      "metadata": {
        "colab": {
          "base_uri": "https://localhost:8080/"
        },
        "id": "nAE1dNbswzQc",
        "outputId": "38178706-1e50-4ed8-a2bf-c5d3ae8beee2"
      },
      "source": [
        "lightgbm_model = lgb.LGBMClassifier(objective='binary')\n",
        "param_grid = dict(\n",
        "    num_leaves = [4, 5, 7, 15],\n",
        "    learning_rate = [0.1, 0.01, 0.05],\n",
        "    n_estimators = [100, 200],\n",
        "    logging_level = ['Silent'],\n",
        "    max_depth = [4, 5, 6, 7, -1]\n",
        ")\n",
        "grid = GridSearchCV(lightgbm_model, param_grid, verbose=True, scoring='roc_auc')\n",
        "grid.fit(X_train, y_train)\n",
        "\n",
        "print(end='')"
      ],
      "execution_count": 191,
      "outputs": [
        {
          "output_type": "stream",
          "text": [
            "Fitting 5 folds for each of 120 candidates, totalling 600 fits\n"
          ],
          "name": "stdout"
        },
        {
          "output_type": "stream",
          "text": [
            "[Parallel(n_jobs=1)]: Using backend SequentialBackend with 1 concurrent workers.\n",
            "[Parallel(n_jobs=1)]: Done 600 out of 600 | elapsed:  1.8min finished\n"
          ],
          "name": "stderr"
        }
      ]
    },
    {
      "cell_type": "code",
      "metadata": {
        "colab": {
          "base_uri": "https://localhost:8080/"
        },
        "id": "SJe7gRmxwzQd",
        "outputId": "67c68630-2ecc-4bf3-ab26-be33d14e0883"
      },
      "source": [
        "print(grid.best_params_)\n",
        "print(grid.best_score_)\n",
        "#{'learning_rate': 0.1, 'logging_level': 'Silent', 'max_depth': 4, 'n_estimators': 200, 'num_leaves': 7}\n",
        "#0.9906770818672296"
      ],
      "execution_count": 192,
      "outputs": [
        {
          "output_type": "stream",
          "text": [
            "{'learning_rate': 0.05, 'logging_level': 'Silent', 'max_depth': -1, 'n_estimators': 100, 'num_leaves': 15}\n",
            "0.6363709383587495\n"
          ],
          "name": "stdout"
        }
      ]
    },
    {
      "cell_type": "code",
      "metadata": {
        "colab": {
          "base_uri": "https://localhost:8080/"
        },
        "id": "YEbFBzFqwzQe",
        "outputId": "bf3c5635-1c7f-4352-f353-58d43bd5df06"
      },
      "source": [
        "print('Best Score: {}'.format(grid.best_score_))\n",
        "print('Test ROC_AUC: {}'.format(roc_auc_score(y_test, grid.predict(X_test))))\n",
        "print('Train ROC_AUC: {}'.format(roc_auc_score(y_train, grid.predict(X_train))))\n",
        "# Best Score: 0.9906770818672296\n",
        "# Test ROC_AUC: 0.9543650793650794\n",
        "# Train ROC_AUC: 1.0\n"
      ],
      "execution_count": 193,
      "outputs": [
        {
          "output_type": "stream",
          "text": [
            "Best Score: 0.6363709383587495\n",
            "Test ROC_AUC: 0.599474364765169\n",
            "Train ROC_AUC: 0.7313282867741403\n"
          ],
          "name": "stdout"
        }
      ]
    },
    {
      "cell_type": "code",
      "metadata": {
        "colab": {
          "base_uri": "https://localhost:8080/"
        },
        "id": "auSVQnqTwzQe",
        "outputId": "84d910f5-1fc6-47bc-987b-023b444f79a6"
      },
      "source": [
        "print('Test balanced accuracy: {}'.format(balanced_accuracy_score(y_test, (grid.predict(X_test)>0.5)*1)))\n",
        "print('Train balanced accuracy: {}'.format(balanced_accuracy_score(y_train, (grid.predict(X_train)>0.5)*1)))\n",
        "# Test balanced accuracy: 0.9543650793650793\n",
        "# Train balanced accuracy: 1.0"
      ],
      "execution_count": 194,
      "outputs": [
        {
          "output_type": "stream",
          "text": [
            "Test balanced accuracy: 0.599474364765169\n",
            "Train balanced accuracy: 0.7313282867741403\n"
          ],
          "name": "stdout"
        }
      ]
    },
    {
      "cell_type": "markdown",
      "metadata": {
        "id": "K3NVoL9Uobrc"
      },
      "source": [
        "##Вывод"
      ]
    },
    {
      "cell_type": "markdown",
      "metadata": {
        "id": "Z3k6vb85ztbM"
      },
      "source": [
        "Результаты:\n",
        "\n",
        "| Breast Cancer | XGBoost | CatBoost | LightGBM |\n",
        "| --- | --- | --- | --- |\n",
        "| Best Parameters| 'colsample_bytree': 0.1,  <br /> 'gamma': 1,  <br />'learning_rate': 0.05,  <br /> 'max_depth': 4, <br /> 'n_estimators': 200 | 'depth': 5, <br /> 'learning_rate': 0.05, <br /> 'n_estimators': 100|  'learning_rate': 0.1, <br /> 'max_depth': 4, <br /> 'n_estimators': 200, <br /> 'num_leaves': 7 |\n",
        "| Train ROC_AUC   | 0.9108571       | 0.6661803 | 0.7313283  |\n",
        "| Test ROC_AUC    | 0.6781912       | 0.5795139 | 0.5994744  |\n",
        "| Parameter <br /> Tuning Time      | 1.8min <br /> (1080 iter) | 1.1min <br /> (120 iter) |  1.8min <br /> (600 iter)  |\n",
        "\n",
        "Такие результаты вполне нормальны для этого датасета. Почти все примеры кода в соответствующем соревновании Kaggle не достигают точности на тестовых данных больше 0.65."
      ]
    },
    {
      "cell_type": "markdown",
      "metadata": {
        "id": "r8p2EphxdjON"
      },
      "source": [
        "# Результаты"
      ]
    },
    {
      "cell_type": "markdown",
      "metadata": {
        "id": "GFmMgafmZyNQ"
      },
      "source": [
        "Результаты можно представить в следующем виде:\n",
        "![image.png](data:image/png;base64,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)\n"
      ]
    },
    {
      "cell_type": "markdown",
      "metadata": {
        "id": "MfHgkflzZ_NL"
      },
      "source": [
        "Как видим XGBoost показал себя довольно неплохо на задачах бинарной классификации. Но для регрессии лучше выбрать CatBoost или LightGBM."
      ]
    }
  ]
}